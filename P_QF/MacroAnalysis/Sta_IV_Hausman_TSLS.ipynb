{
 "cells": [
  {
   "cell_type": "code",
   "execution_count": 1,
   "metadata": {},
   "outputs": [],
   "source": [
    "\n",
    "# 1. Packages\n",
    "import numpy as np\n",
    "import matplotlib.pyplot as plt\n",
    "%matplotlib inline\n",
    "import pandas as pd\n",
    "import statsmodels.api as sm\n",
    "import statsmodels.formula.api as smf\n",
    "import linearmodels.iv.model as lm"
   ]
  },
  {
   "cell_type": "code",
   "execution_count": 2,
   "metadata": {},
   "outputs": [
    {
     "data": {
      "text/html": [
       "<div>\n",
       "<style scoped>\n",
       "    .dataframe tbody tr th:only-of-type {\n",
       "        vertical-align: middle;\n",
       "    }\n",
       "\n",
       "    .dataframe tbody tr th {\n",
       "        vertical-align: top;\n",
       "    }\n",
       "\n",
       "    .dataframe thead th {\n",
       "        text-align: right;\n",
       "    }\n",
       "</style>\n",
       "<table border=\"1\" class=\"dataframe\">\n",
       "  <thead>\n",
       "    <tr style=\"text-align: right;\">\n",
       "      <th></th>\n",
       "      <th>Y</th>\n",
       "      <th>X</th>\n",
       "      <th>Z</th>\n",
       "    </tr>\n",
       "  </thead>\n",
       "  <tbody>\n",
       "    <tr>\n",
       "      <th>0</th>\n",
       "      <td>8.39</td>\n",
       "      <td>6.50</td>\n",
       "      <td>4.359270</td>\n",
       "    </tr>\n",
       "    <tr>\n",
       "      <th>1</th>\n",
       "      <td>7.77</td>\n",
       "      <td>5.36</td>\n",
       "      <td>5.634790</td>\n",
       "    </tr>\n",
       "    <tr>\n",
       "      <th>2</th>\n",
       "      <td>9.13</td>\n",
       "      <td>6.39</td>\n",
       "      <td>4.232656</td>\n",
       "    </tr>\n",
       "    <tr>\n",
       "      <th>3</th>\n",
       "      <td>9.90</td>\n",
       "      <td>9.32</td>\n",
       "      <td>2.145931</td>\n",
       "    </tr>\n",
       "    <tr>\n",
       "      <th>4</th>\n",
       "      <td>9.29</td>\n",
       "      <td>7.50</td>\n",
       "      <td>4.442651</td>\n",
       "    </tr>\n",
       "  </tbody>\n",
       "</table>\n",
       "</div>"
      ],
      "text/plain": [
       "      Y     X         Z\n",
       "0  8.39  6.50  4.359270\n",
       "1  7.77  5.36  5.634790\n",
       "2  9.13  6.39  4.232656\n",
       "3  9.90  9.32  2.145931\n",
       "4  9.29  7.50  4.442651"
      ]
     },
     "execution_count": 2,
     "metadata": {},
     "output_type": "execute_result"
    }
   ],
   "source": [
    "# 2. Data\n",
    "data = pd.read_excel(\"Quant_IV.xlsx\",header=1, usecols=\"A:H\")\n",
    "data = data[['Y', 'X', 'Z']]\n",
    "data.head()"
   ]
  },
  {
   "cell_type": "code",
   "execution_count": null,
   "metadata": {},
   "outputs": [],
   "source": []
  },
  {
   "cell_type": "code",
   "execution_count": 3,
   "metadata": {},
   "outputs": [
    {
     "data": {
      "image/png": "[encoded data removed]",
      "text/plain": [
       "<Figure size 640x480 with 1 Axes>"
      ]
     },
     "metadata": {},
     "output_type": "display_data"
    }
   ],
   "source": [
    "##Plotting the relationship between X and Y\n",
    "#we can observe a strongly positive relationship between x='X' & y='Y'\n",
    "data.plot(x='X', y='Y', kind='scatter', color='purple')\n",
    "plt.show()"
   ]
  },
  {
   "cell_type": "code",
   "execution_count": 4,
   "metadata": {},
   "outputs": [
    {
     "data": {
      "image/png": "[encoded data removed]",
      "text/plain": [
       "<Figure size 640x480 with 1 Axes>"
      ]
     },
     "metadata": {},
     "output_type": "display_data"
    }
   ],
   "source": [
    "##Plotting the relationship between 'Z' and 'X' to see if 'X' may be an endogenous variable!\n",
    "#we can observe a fairly negative relationship between 'Z' and 'X'.\n",
    "data.plot(x='Z', y='X', kind='scatter', color='orange')\n",
    "plt.show()"
   ]
  },
  {
   "cell_type": "code",
   "execution_count": 5,
   "metadata": {},
   "outputs": [
    {
     "name": "stdout",
     "output_type": "stream",
     "text": [
      "                            OLS Regression Results                            \n",
      "==============================================================================\n",
      "Dep. Variable:                      X   R-squared:                       0.274\n",
      "Model:                            OLS   Adj. R-squared:                  0.262\n",
      "Method:                 Least Squares   F-statistic:                     23.34\n",
      "Date:                Wed, 25 Sep 2024   Prob (F-statistic):           9.27e-06\n",
      "Time:                        11:32:00   Log-Likelihood:                -104.69\n",
      "No. Observations:                  64   AIC:                             213.4\n",
      "Df Residuals:                      62   BIC:                             217.7\n",
      "Df Model:                           1                                         \n",
      "Covariance Type:            nonrobust                                         \n",
      "==============================================================================\n",
      "                 coef    std err          t      P>|t|      [0.025      0.975]\n",
      "------------------------------------------------------------------------------\n",
      "const          9.3659      0.611     15.339      0.000       8.145      10.586\n",
      "Z             -0.6133      0.127     -4.831      0.000      -0.867      -0.360\n",
      "==============================================================================\n",
      "Omnibus:                        0.047   Durbin-Watson:                   1.592\n",
      "Prob(Omnibus):                  0.977   Jarque-Bera (JB):                0.154\n",
      "Skew:                           0.060   Prob(JB):                        0.926\n",
      "Kurtosis:                       2.792   Cond. No.                         19.4\n",
      "==============================================================================\n",
      "\n",
      "Notes:\n",
      "[1] Standard Errors assume that the covariance matrix of the errors is correctly specified.\n"
     ]
    }
   ],
   "source": [
    "##2SLS model##\n",
    "\n",
    "#We add a constant column with value 1 to the current data to make the true dimension(i.e., beta0*1=beta0)\n",
    "data['const'] = 1\n",
    "\n",
    "###FIRST STAGE regression model\n",
    "reg_fs = sm.OLS(data['X'],\n",
    "                    data[['const', 'Z']],\n",
    "                    missing='drop').fit()\n",
    "print(reg_fs.summary())"
   ]
  },
  {
   "cell_type": "code",
   "execution_count": 6,
   "metadata": {},
   "outputs": [
    {
     "name": "stdout",
     "output_type": "stream",
     "text": [
      "                            OLS Regression Results                            \n",
      "==============================================================================\n",
      "Dep. Variable:                      X   R-squared:                       0.726\n",
      "Model:                            OLS   Adj. R-squared:                  0.722\n",
      "Method:                 Least Squares   F-statistic:                     164.7\n",
      "Date:                Wed, 25 Sep 2024   Prob (F-statistic):           4.14e-19\n",
      "Time:                        11:32:00   Log-Likelihood:                -73.429\n",
      "No. Observations:                  64   AIC:                             150.9\n",
      "Df Residuals:                      62   BIC:                             155.2\n",
      "Df Model:                           1                                         \n",
      "Covariance Type:            nonrobust                                         \n",
      "==============================================================================\n",
      "                 coef    std err          t      P>|t|      [0.025      0.975]\n",
      "------------------------------------------------------------------------------\n",
      "const          6.5161      0.097     67.320      0.000       6.323       6.710\n",
      "residual       1.0000      0.078     12.833      0.000       0.844       1.156\n",
      "==============================================================================\n",
      "Omnibus:                        1.611   Durbin-Watson:                   2.088\n",
      "Prob(Omnibus):                  0.447   Jarque-Bera (JB):                1.073\n",
      "Skew:                          -0.305   Prob(JB):                        0.585\n",
      "Kurtosis:                       3.172   Cond. No.                         1.24\n",
      "==============================================================================\n",
      "\n",
      "Notes:\n",
      "[1] Standard Errors assume that the covariance matrix of the errors is correctly specified.\n"
     ]
    }
   ],
   "source": [
    "###SECOND STAGE regression model\n",
    "\n",
    "#we first need to retrive the residuals:\n",
    "data['residual'] = reg_fs.resid\n",
    "\n",
    "reg_ss = sm.OLS(data['X'],\n",
    "                    data[['const', 'residual']],\n",
    "                    missing='drop').fit()\n",
    "print(reg_ss.summary())"
   ]
  },
  {
   "cell_type": "code",
   "execution_count": 7,
   "metadata": {},
   "outputs": [
    {
     "name": "stdout",
     "output_type": "stream",
     "text": [
      "\n",
      "According to the Hausman test, if variable 'X' and error term 'residual' are correlated, then we cannot accept the null hypothesis and variable 'X' is endogenous. \n",
      "we tested the null hypothesis and obtained the P-values. we can see that P-values are less than alpha=0.05 and so we cannot accept the null hypothesis \n",
      "(the coefficient of residual is significant and Z can help to explain differences in Y). \n",
      "it means that 'X' and 'residual' are not independent and variable 'X' is endogenous. thus, the traditional OLS cannot fit a correct model because it assumes 'X' and 'residual' are independent.\n",
      "\n"
     ]
    }
   ],
   "source": [
    "print(\"\"\"\n",
    "According to the Hausman test, if variable 'X' and error term 'residual' are correlated, then we cannot accept the null hypothesis and variable 'X' is endogenous. \n",
    "we tested the null hypothesis and obtained the P-values. we can see that P-values are less than alpha=0.05 and so we cannot accept the null hypothesis \n",
    "(the coefficient of residual is significant and Z can help to explain differences in Y). \n",
    "it means that 'X' and 'residual' are not independent and variable 'X' is endogenous. thus, the traditional OLS cannot fit a correct model because it assumes 'X' and 'residual' are independent.\n",
    "\"\"\")"
   ]
  },
  {
   "cell_type": "markdown",
   "metadata": {},
   "source": [
    "According to the Hausman test, if variable 'X' and error term 'residual' are correlated, then we cannot accept the null hypothesis and variable 'X' is endogenous. \n",
    "we tested the null hypothesis and obtained the P-values. we can see that P-values are less than alpha=0.05 and so we **cannot accept the null hypothesis** \n",
    "(the coefficient of residual is significant and Z can help to explain differences in Y). \n",
    "it means that 'X' and 'residual' are not independent and variable 'X' is endogenous. thus, the traditional OLS cannot fit a correct model because it assumes 'X' and 'residual' are independent."
   ]
  },
  {
   "cell_type": "code",
   "execution_count": 8,
   "metadata": {},
   "outputs": [],
   "source": [
    "# Exogeneity\n",
    "# TSLS\n",
    "\n",
    "mdatac = sm.add_constant(data=data, prepend=False)\n",
    "\n",
    "mlr2 = lm.IV2SLS(dependent=mdatac[\"Y\"], exog=mdatac[['const']], endog=mdatac['X'], instruments=mdatac[['Z']]).fit(cov_type='homoskedastic', debiased=True)"
   ]
  },
  {
   "cell_type": "code",
   "execution_count": 9,
   "metadata": {},
   "outputs": [
    {
     "name": "stdout",
     "output_type": "stream",
     "text": [
      "Wu-Hausman test of exogeneity\n",
      "H0: All endogenous variables are exogenous\n",
      "Statistic: 21.5601\n",
      "P-value: 0.0000\n",
      "Distributed: F(1,61)\n",
      "Wooldridge's regression test of exogeneity\n",
      "H0: Endogenous variables are exogenous\n",
      "Statistic: 21.5601\n",
      "P-value: 0.0000\n",
      "Distributed: chi2(1)\n"
     ]
    }
   ],
   "source": [
    "# Wu-Hausman Tests\n",
    "print(mlr2.wu_hausman())\n",
    "print(mlr2.wooldridge_regression)"
   ]
  },
  {
   "cell_type": "code",
   "execution_count": 10,
   "metadata": {},
   "outputs": [
    {
     "name": "stdout",
     "output_type": "stream",
     "text": [
      "Invalid test statistic\n",
      "Test requires more instruments than endogenous variables.\n",
      "Sargan's test of overidentification\n"
     ]
    }
   ],
   "source": [
    "# Sargan Over-identifying Restrictions Test\n",
    "print(mlr2.sargan)"
   ]
  },
  {
   "cell_type": "code",
   "execution_count": null,
   "metadata": {},
   "outputs": [],
   "source": []
  }
 ],
 "metadata": {
  "kernelspec": {
   "display_name": "Python 3",
   "language": "python",
   "name": "python3"
  },
  "language_info": {
   "codemirror_mode": {
    "name": "ipython",
    "version": 3
   },
   "file_extension": ".py",
   "mimetype": "text/x-python",
   "name": "python",
   "nbconvert_exporter": "python",
   "pygments_lexer": "ipython3",
   "version": "3.10.9"
  }
 },
 "nbformat": 4,
 "nbformat_minor": 2
}
