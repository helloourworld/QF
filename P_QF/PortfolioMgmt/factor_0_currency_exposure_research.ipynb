{
 "cells": [
  {
   "cell_type": "markdown",
   "id": "afe9fce9",
   "metadata": {
    "papermill": {
     "duration": 0.011008,
     "end_time": "2023-11-21T09:52:20.636700",
     "exception": false,
     "start_time": "2023-11-21T09:52:20.625692",
     "status": "completed"
    },
    "tags": []
   },
   "source": [
    "### 4.2.5\tCurrency Risk return\n",
    "Currency risk, also known as exchange rate risk, arises from the change in price of one currency in relation to another. The currency risk return is the potential profit or loss that an investor might realize from fluctuations in exchange rates when holding assets denominated in a foreign currency (i.e., USD).\n",
    "\n"
   ]
  },
  {
   "cell_type": "markdown",
   "id": "9d671539",
   "metadata": {
    "papermill": {
     "duration": 0.010865,
     "end_time": "2023-11-21T09:52:20.658659",
     "exception": false,
     "start_time": "2023-11-21T09:52:20.647794",
     "status": "completed"
    },
    "tags": []
   },
   "source": [
    "#### 4.2.5.1 Currency Translation vs Currency hedging"
   ]
  },
  {
   "cell_type": "markdown",
   "id": "47e5c69f",
   "metadata": {},
   "source": []
  },
  {
   "cell_type": "markdown",
   "id": "c18485e2",
   "metadata": {},
   "source": [
    "#### 4.2.5.2 Example with code"
   ]
  },
  {
   "cell_type": "code",
   "execution_count": 1,
   "id": "0bfce439",
   "metadata": {
    "execution": {
     "iopub.execute_input": "2023-11-21T09:52:20.684650Z",
     "iopub.status.busy": "2023-11-21T09:52:20.683780Z",
     "iopub.status.idle": "2023-11-21T09:52:23.693332Z",
     "shell.execute_reply": "2023-11-21T09:52:23.691536Z"
    },
    "papermill": {
     "duration": 3.026058,
     "end_time": "2023-11-21T09:52:23.696064",
     "exception": false,
     "start_time": "2023-11-21T09:52:20.670006",
     "status": "completed"
    },
    "tags": []
   },
   "outputs": [],
   "source": [
    "%matplotlib inline\n",
    "import matplotlib.pyplot as plt\n",
    "import numpy as np\n",
    "import pandas as pd\n",
    "import statsmodels.api as sm\n",
    "from scipy import stats\n",
    "\n"
   ]
  },
  {
   "cell_type": "markdown",
   "id": "8fd6c4bf",
   "metadata": {
    "papermill": {
     "duration": 0.015171,
     "end_time": "2023-11-21T09:52:24.253355",
     "exception": false,
     "start_time": "2023-11-21T09:52:24.238184",
     "status": "completed"
    },
    "tags": []
   },
   "source": [
    "The coefficients of the discrete choice model do not tell us much. What we’re after is marginal effects"
   ]
  },
  {
   "cell_type": "markdown",
   "id": "9b89de38",
   "metadata": {
    "papermill": {
     "duration": 0.016507,
     "end_time": "2023-11-21T09:52:27.558470",
     "exception": false,
     "start_time": "2023-11-21T09:52:27.541963",
     "status": "completed"
    },
    "tags": []
   },
   "source": [
    "References\n",
    "\n",
    "Whatever flavor of RL is used, at the framework's core Monte Carlo simulation is performed to repeatedly sample paths in the outcome space and learn good decisions based on these observed paths.\n",
    "\n",
    "\n"
   ]
  },
  {
   "cell_type": "markdown",
   "id": "41dcdc07",
   "metadata": {},
   "source": [
    "the information part"
   ]
  },
  {
   "cell_type": "markdown",
   "id": "65b5e60f",
   "metadata": {},
   "source": [
    "the corresponding filtrations for t = 1 the corresponding filtrations for t = 1:"
   ]
  },
  {
   "cell_type": "markdown",
   "id": "e18a21bb",
   "metadata": {},
   "source": [
    "the corresponding filtrations for the corresponding filtrations "
   ]
  },
  {
   "cell_type": "markdown",
   "id": "ebdcc7d3",
   "metadata": {},
   "source": [
    "F_0 = \\{ $\\phi$, $\\Omega$ \\}"
   ]
  },
  {
   "cell_type": "markdown",
   "id": "00b9ec6e",
   "metadata": {},
   "source": [
    "F_1 = \\{ $\\phi$, $\\Omega$, $A_u, A_d$}"
   ]
  },
  {
   "cell_type": "markdown",
   "id": "e80e418e",
   "metadata": {},
   "source": [
    "include the unions"
   ]
  },
  {
   "cell_type": "markdown",
   "id": "f8f84e3f",
   "metadata": {},
   "source": [
    "$A_{uu} \\cup A_{dd}$"
   ]
  },
  {
   "cell_type": "markdown",
   "id": "095e5cbb",
   "metadata": {},
   "source": [
    "The event sets"
   ]
  },
  {
   "cell_type": "markdown",
   "id": "2f3bfcfa",
   "metadata": {},
   "source": [
    "Intutitive visualization of F2. The colors red, green, orange, and blue indicate event sets respectively"
   ]
  },
  {
   "cell_type": "markdown",
   "id": "19be154d",
   "metadata": {},
   "source": [
    "Note that this filtration is more fine-grained"
   ]
  },
  {
   "cell_type": "markdown",
   "id": "e734fc6e",
   "metadata": {},
   "source": [
    "the minimal filtration"
   ]
  },
  {
   "cell_type": "code",
   "execution_count": 7,
   "id": "4f444b51",
   "metadata": {},
   "outputs": [
    {
     "data": {
      "text/plain": [
       "28.78"
      ]
     },
     "execution_count": 7,
     "metadata": {},
     "output_type": "execute_result"
    }
   ],
   "source": [
    "29.34-.56"
   ]
  },
  {
   "cell_type": "markdown",
   "id": "8a3b0f99",
   "metadata": {},
   "source": []
  },
  {
   "cell_type": "markdown",
   "id": "afbb4adc",
   "metadata": {},
   "source": [
    "Lower capacity asset classes"
   ]
  }
 ],
 "metadata": {
  "kaggle": {
   "accelerator": "none",
   "dataSources": [],
   "dockerImageVersionId": 30513,
   "isGpuEnabled": false,
   "isInternetEnabled": true,
   "language": "python",
   "sourceType": "notebook"
  },
  "kernelspec": {
   "display_name": "Python 3",
   "language": "python",
   "name": "python3"
  },
  "language_info": {
   "codemirror_mode": {
    "name": "ipython",
    "version": 3
   },
   "file_extension": ".py",
   "mimetype": "text/x-python",
   "name": "python",
   "nbconvert_exporter": "python",
   "pygments_lexer": "ipython3",
   "version": "3.10.9"
  },
  "papermill": {
   "default_parameters": {},
   "duration": 20.038625,
   "end_time": "2023-11-21T09:52:28.598536",
   "environment_variables": {},
   "exception": null,
   "input_path": "__notebook__.ipynb",
   "output_path": "__notebook__.ipynb",
   "parameters": {},
   "start_time": "2023-11-21T09:52:08.559911",
   "version": "2.4.0"
  }
 },
 "nbformat": 4,
 "nbformat_minor": 5
}
