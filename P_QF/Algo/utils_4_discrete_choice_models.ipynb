{
 "cells": [
  {
   "cell_type": "markdown",
   "id": "afe9fce9",
   "metadata": {
    "papermill": {
     "duration": 0.011008,
     "end_time": "2023-11-21T09:52:20.636700",
     "exception": false,
     "start_time": "2023-11-21T09:52:20.625692",
     "status": "completed"
    },
    "tags": []
   },
   "source": [
    "# Intro\n",
    "\n",
    "Discrete choice models, or qualitative choice models, describe, explain, and predict choices between two or more discrete alternatives, such as entering or not entering the labor market, or choosing between modes of transport. Such choices contrast with standard consumption models in which the quantity of each good consumed is assumed to be a continuous variable. In the continuous case, calculus methods (e.g. first-order conditions) can be used to determine the optimum amount chosen, and demand can be modeled empirically using regression analysis. On the other hand, discrete choice analysis examines situations in which the potential outcomes are discrete, such that the optimum is not characterized by standard first-order conditions. Thus, instead of examining \"how much\" as in problems with continuous choice variables, discrete choice analysis examines \"which one\". However, discrete choice analysis can also be used to examine the chosen quantity when only a few distinct quantities must be chosen from, such as the number of vehicles a household chooses to own and the number of minutes of telecommunications service a customer decides to purchase.Techniques such as logistic regression and probit regression can be used for empirical analysis of discrete choice.\n",
    "\n",
    "Discrete choice models theoretically or empirically model choices made by people among a finite set of alternatives. The models have been used to examine, e.g., the choice of which car to buy, where to go to college,which mode of transport (car, bus, rail) to take to work[5] among numerous other applications. Discrete choice models are also used to examine choices by organizations, such as firms or government agencies. In the discussion below, the decision-making unit is assumed to be a person, though the concepts are applicable more generally. Daniel McFadden won the Nobel prize in 2000 for his pioneering work in developing the theoretical basis for discrete choice."
   ]
  },
  {
   "cell_type": "markdown",
   "id": "9d671539",
   "metadata": {
    "papermill": {
     "duration": 0.010865,
     "end_time": "2023-11-21T09:52:20.658659",
     "exception": false,
     "start_time": "2023-11-21T09:52:20.647794",
     "status": "completed"
    },
    "tags": []
   },
   "source": [
    "# Fair’s Affair data\n",
    "A survey of women only was conducted in 1974 by Redbook asking about extramarital affairs."
   ]
  },
  {
   "cell_type": "code",
   "execution_count": 1,
   "id": "0bfce439",
   "metadata": {
    "execution": {
     "iopub.execute_input": "2023-11-21T09:52:20.684650Z",
     "iopub.status.busy": "2023-11-21T09:52:20.683780Z",
     "iopub.status.idle": "2023-11-21T09:52:23.693332Z",
     "shell.execute_reply": "2023-11-21T09:52:23.691536Z"
    },
    "papermill": {
     "duration": 3.026058,
     "end_time": "2023-11-21T09:52:23.696064",
     "exception": false,
     "start_time": "2023-11-21T09:52:20.670006",
     "status": "completed"
    },
    "tags": []
   },
   "outputs": [],
   "source": [
    "%matplotlib inline\n",
    "import matplotlib.pyplot as plt\n",
    "import numpy as np\n",
    "import pandas as pd\n",
    "import statsmodels.api as sm\n",
    "from scipy import stats\n",
    "from statsmodels.formula.api import logit\n"
   ]
  },
  {
   "cell_type": "code",
   "execution_count": 2,
   "id": "b164b5b7",
   "metadata": {
    "execution": {
     "iopub.execute_input": "2023-11-21T09:52:23.721365Z",
     "iopub.status.busy": "2023-11-21T09:52:23.720949Z",
     "iopub.status.idle": "2023-11-21T09:52:23.726803Z",
     "shell.execute_reply": "2023-11-21T09:52:23.725630Z"
    },
    "papermill": {
     "duration": 0.021532,
     "end_time": "2023-11-21T09:52:23.729012",
     "exception": false,
     "start_time": "2023-11-21T09:52:23.707480",
     "status": "completed"
    },
    "tags": []
   },
   "outputs": [
    {
     "name": "stdout",
     "output_type": "stream",
     "text": [
      "\n",
      "Fair, Ray. 1978. \"A Theory of Extramarital Affairs,\" `Journal of Political\n",
      "Economy`, February, 45-61.\n",
      "\n",
      "The data is available at http://fairmodel.econ.yale.edu/rayfair/pdf/2011b.htm\n",
      "\n"
     ]
    }
   ],
   "source": [
    "print(sm.datasets.fair.SOURCE)"
   ]
  },
  {
   "cell_type": "code",
   "execution_count": 3,
   "id": "fa4d02ee",
   "metadata": {
    "execution": {
     "iopub.execute_input": "2023-11-21T09:52:23.755422Z",
     "iopub.status.busy": "2023-11-21T09:52:23.755021Z",
     "iopub.status.idle": "2023-11-21T09:52:23.760841Z",
     "shell.execute_reply": "2023-11-21T09:52:23.759698Z"
    },
    "papermill": {
     "duration": 0.022488,
     "end_time": "2023-11-21T09:52:23.764026",
     "exception": false,
     "start_time": "2023-11-21T09:52:23.741538",
     "status": "completed"
    },
    "tags": []
   },
   "outputs": [
    {
     "name": "stdout",
     "output_type": "stream",
     "text": [
      "::\n",
      "\n",
      "    Number of observations: 6366\n",
      "    Number of variables: 9\n",
      "    Variable name definitions:\n",
      "\n",
      "        rate_marriage   : How rate marriage, 1 = very poor, 2 = poor, 3 = fair,\n",
      "                        4 = good, 5 = very good\n",
      "        age             : Age\n",
      "        yrs_married     : No. years married. Interval approximations. See\n",
      "                        original paper for detailed explanation.\n",
      "        children        : No. children\n",
      "        religious       : How relgious, 1 = not, 2 = mildly, 3 = fairly,\n",
      "                        4 = strongly\n",
      "        educ            : Level of education, 9 = grade school, 12 = high\n",
      "                        school, 14 = some college, 16 = college graduate,\n",
      "                        17 = some graduate school, 20 = advanced degree\n",
      "        occupation      : 1 = student, 2 = farming, agriculture; semi-skilled,\n",
      "                        or unskilled worker; 3 = white-colloar; 4 = teacher\n",
      "                        counselor social worker, nurse; artist, writers;\n",
      "                        technician, skilled worker, 5 = managerial,\n",
      "                        administrative, business, 6 = professional with\n",
      "                        advanced degree\n",
      "        occupation_husb : Husband's occupation. Same as occupation.\n",
      "        affairs         : measure of time spent in extramarital affairs\n",
      "\n",
      "    See the original paper for more details.\n",
      "\n"
     ]
    }
   ],
   "source": [
    "print(sm.datasets.fair.NOTE)"
   ]
  },
  {
   "cell_type": "code",
   "execution_count": 4,
   "id": "436cc8e3",
   "metadata": {
    "execution": {
     "iopub.execute_input": "2023-11-21T09:52:23.789393Z",
     "iopub.status.busy": "2023-11-21T09:52:23.788999Z",
     "iopub.status.idle": "2023-11-21T09:52:23.825553Z",
     "shell.execute_reply": "2023-11-21T09:52:23.823677Z"
    },
    "papermill": {
     "duration": 0.052142,
     "end_time": "2023-11-21T09:52:23.828210",
     "exception": false,
     "start_time": "2023-11-21T09:52:23.776068",
     "status": "completed"
    },
    "tags": []
   },
   "outputs": [],
   "source": [
    "dta = sm.datasets.fair.load_pandas().data"
   ]
  },
  {
   "cell_type": "code",
   "execution_count": 5,
   "id": "91366538",
   "metadata": {
    "execution": {
     "iopub.execute_input": "2023-11-21T09:52:23.853158Z",
     "iopub.status.busy": "2023-11-21T09:52:23.852752Z",
     "iopub.status.idle": "2023-11-21T09:52:23.872090Z",
     "shell.execute_reply": "2023-11-21T09:52:23.870214Z"
    },
    "papermill": {
     "duration": 0.034936,
     "end_time": "2023-11-21T09:52:23.874578",
     "exception": false,
     "start_time": "2023-11-21T09:52:23.839642",
     "status": "completed"
    },
    "tags": []
   },
   "outputs": [
    {
     "name": "stdout",
     "output_type": "stream",
     "text": [
      "   rate_marriage   age  yrs_married  children  religious  educ  occupation  \\\n",
      "0            3.0  32.0          9.0       3.0        3.0  17.0         2.0   \n",
      "1            3.0  27.0         13.0       3.0        1.0  14.0         3.0   \n",
      "2            4.0  22.0          2.5       0.0        1.0  16.0         3.0   \n",
      "3            4.0  37.0         16.5       4.0        3.0  16.0         5.0   \n",
      "4            5.0  27.0          9.0       1.0        1.0  14.0         3.0   \n",
      "5            4.0  27.0          9.0       0.0        2.0  14.0         3.0   \n",
      "6            5.0  37.0         23.0       5.5        2.0  12.0         5.0   \n",
      "7            5.0  37.0         23.0       5.5        2.0  12.0         2.0   \n",
      "8            3.0  22.0          2.5       0.0        2.0  12.0         3.0   \n",
      "9            3.0  27.0          6.0       0.0        1.0  16.0         3.0   \n",
      "\n",
      "   occupation_husb   affairs  affair  \n",
      "0              5.0  0.111111     1.0  \n",
      "1              4.0  3.230769     1.0  \n",
      "2              5.0  1.400000     1.0  \n",
      "3              5.0  0.727273     1.0  \n",
      "4              4.0  4.666666     1.0  \n",
      "5              4.0  4.666666     1.0  \n",
      "6              4.0  0.852174     1.0  \n",
      "7              3.0  1.826086     1.0  \n",
      "8              3.0  4.799999     1.0  \n",
      "9              5.0  1.333333     1.0  \n"
     ]
    }
   ],
   "source": [
    "dta[\"affair\"] = (dta[\"affairs\"] > 0).astype(float)\n",
    "print(dta.head(10))"
   ]
  },
  {
   "cell_type": "code",
   "execution_count": 6,
   "id": "fceeecee",
   "metadata": {
    "execution": {
     "iopub.execute_input": "2023-11-21T09:52:23.900146Z",
     "iopub.status.busy": "2023-11-21T09:52:23.899444Z",
     "iopub.status.idle": "2023-11-21T09:52:23.938841Z",
     "shell.execute_reply": "2023-11-21T09:52:23.937113Z"
    },
    "papermill": {
     "duration": 0.055039,
     "end_time": "2023-11-21T09:52:23.941607",
     "exception": false,
     "start_time": "2023-11-21T09:52:23.886568",
     "status": "completed"
    },
    "tags": []
   },
   "outputs": [
    {
     "name": "stdout",
     "output_type": "stream",
     "text": [
      "       rate_marriage          age  yrs_married     children    religious  \\\n",
      "count    6366.000000  6366.000000  6366.000000  6366.000000  6366.000000   \n",
      "mean        4.109645    29.082862     9.009425     1.396874     2.426170   \n",
      "std         0.961430     6.847882     7.280120     1.433471     0.878369   \n",
      "min         1.000000    17.500000     0.500000     0.000000     1.000000   \n",
      "25%         4.000000    22.000000     2.500000     0.000000     2.000000   \n",
      "50%         4.000000    27.000000     6.000000     1.000000     2.000000   \n",
      "75%         5.000000    32.000000    16.500000     2.000000     3.000000   \n",
      "max         5.000000    42.000000    23.000000     5.500000     4.000000   \n",
      "\n",
      "              educ   occupation  occupation_husb      affairs       affair  \n",
      "count  6366.000000  6366.000000      6366.000000  6366.000000  6366.000000  \n",
      "mean     14.209865     3.424128         3.850141     0.705374     0.322495  \n",
      "std       2.178003     0.942399         1.346435     2.203374     0.467468  \n",
      "min       9.000000     1.000000         1.000000     0.000000     0.000000  \n",
      "25%      12.000000     3.000000         3.000000     0.000000     0.000000  \n",
      "50%      14.000000     3.000000         4.000000     0.000000     0.000000  \n",
      "75%      16.000000     4.000000         5.000000     0.484848     1.000000  \n",
      "max      20.000000     6.000000         6.000000    57.599991     1.000000  \n"
     ]
    }
   ],
   "source": [
    "print(dta.describe())"
   ]
  },
  {
   "cell_type": "code",
   "execution_count": 7,
   "id": "aaa0f6ae",
   "metadata": {
    "execution": {
     "iopub.execute_input": "2023-11-21T09:52:23.967053Z",
     "iopub.status.busy": "2023-11-21T09:52:23.966701Z",
     "iopub.status.idle": "2023-11-21T09:52:24.029934Z",
     "shell.execute_reply": "2023-11-21T09:52:24.028950Z"
    },
    "papermill": {
     "duration": 0.078991,
     "end_time": "2023-11-21T09:52:24.032603",
     "exception": false,
     "start_time": "2023-11-21T09:52:23.953612",
     "status": "completed"
    },
    "tags": []
   },
   "outputs": [
    {
     "name": "stdout",
     "output_type": "stream",
     "text": [
      "Optimization terminated successfully.\n",
      "         Current function value: 0.545314\n",
      "         Iterations 6\n"
     ]
    }
   ],
   "source": [
    "affair_mod = logit(\n",
    "    \"affair ~ occupation + educ + occupation_husb\"\n",
    "    \"+ rate_marriage + age + yrs_married + children\"\n",
    "    \" + religious\",\n",
    "    dta,\n",
    ").fit()"
   ]
  },
  {
   "cell_type": "code",
   "execution_count": 8,
   "id": "1971bf39",
   "metadata": {
    "execution": {
     "iopub.execute_input": "2023-11-21T09:52:24.096555Z",
     "iopub.status.busy": "2023-11-21T09:52:24.095936Z",
     "iopub.status.idle": "2023-11-21T09:52:24.134595Z",
     "shell.execute_reply": "2023-11-21T09:52:24.133816Z"
    },
    "papermill": {
     "duration": 0.078142,
     "end_time": "2023-11-21T09:52:24.137196",
     "exception": false,
     "start_time": "2023-11-21T09:52:24.059054",
     "status": "completed"
    },
    "tags": []
   },
   "outputs": [
    {
     "name": "stdout",
     "output_type": "stream",
     "text": [
      "                           Logit Regression Results                           \n",
      "==============================================================================\n",
      "Dep. Variable:                 affair   No. Observations:                 6366\n",
      "Model:                          Logit   Df Residuals:                     6357\n",
      "Method:                           MLE   Df Model:                            8\n",
      "Date:                Wed, 29 Nov 2023   Pseudo R-squ.:                  0.1327\n",
      "Time:                        16:00:59   Log-Likelihood:                -3471.5\n",
      "converged:                       True   LL-Null:                       -4002.5\n",
      "Covariance Type:            nonrobust   LLR p-value:                5.807e-224\n",
      "===================================================================================\n",
      "                      coef    std err          z      P>|z|      [0.025      0.975]\n",
      "-----------------------------------------------------------------------------------\n",
      "Intercept           3.7257      0.299     12.470      0.000       3.140       4.311\n",
      "occupation          0.1602      0.034      4.717      0.000       0.094       0.227\n",
      "educ               -0.0392      0.015     -2.533      0.011      -0.070      -0.009\n",
      "occupation_husb     0.0124      0.023      0.541      0.589      -0.033       0.057\n",
      "rate_marriage      -0.7161      0.031    -22.784      0.000      -0.778      -0.655\n",
      "age                -0.0605      0.010     -5.885      0.000      -0.081      -0.040\n",
      "yrs_married         0.1100      0.011     10.054      0.000       0.089       0.131\n",
      "children           -0.0042      0.032     -0.134      0.893      -0.066       0.058\n",
      "religious          -0.3752      0.035    -10.792      0.000      -0.443      -0.307\n",
      "===================================================================================\n"
     ]
    }
   ],
   "source": [
    "print(affair_mod.summary())"
   ]
  },
  {
   "cell_type": "markdown",
   "id": "74efee10",
   "metadata": {
    "papermill": {
     "duration": 0.016972,
     "end_time": "2023-11-21T09:52:24.170023",
     "exception": false,
     "start_time": "2023-11-21T09:52:24.153051",
     "status": "completed"
    },
    "tags": []
   },
   "source": [
    "How well are we predicting?"
   ]
  },
  {
   "cell_type": "code",
   "execution_count": 9,
   "id": "7e4caae2",
   "metadata": {
    "execution": {
     "iopub.execute_input": "2023-11-21T09:52:24.209940Z",
     "iopub.status.busy": "2023-11-21T09:52:24.208723Z",
     "iopub.status.idle": "2023-11-21T09:52:24.220586Z",
     "shell.execute_reply": "2023-11-21T09:52:24.219804Z"
    },
    "papermill": {
     "duration": 0.03172,
     "end_time": "2023-11-21T09:52:24.222896",
     "exception": false,
     "start_time": "2023-11-21T09:52:24.191176",
     "status": "completed"
    },
    "tags": []
   },
   "outputs": [
    {
     "data": {
      "text/plain": [
       "array([[3882.,  431.],\n",
       "       [1326.,  727.]])"
      ]
     },
     "execution_count": 9,
     "metadata": {},
     "output_type": "execute_result"
    }
   ],
   "source": [
    "affair_mod.pred_table()"
   ]
  },
  {
   "cell_type": "markdown",
   "id": "8fd6c4bf",
   "metadata": {
    "papermill": {
     "duration": 0.015171,
     "end_time": "2023-11-21T09:52:24.253355",
     "exception": false,
     "start_time": "2023-11-21T09:52:24.238184",
     "status": "completed"
    },
    "tags": []
   },
   "source": [
    "The coefficients of the discrete choice model do not tell us much. What we’re after is marginal effects."
   ]
  },
  {
   "cell_type": "code",
   "execution_count": 10,
   "id": "3f0956c0",
   "metadata": {
    "execution": {
     "iopub.execute_input": "2023-11-21T09:52:24.284161Z",
     "iopub.status.busy": "2023-11-21T09:52:24.283803Z",
     "iopub.status.idle": "2023-11-21T09:52:24.322341Z",
     "shell.execute_reply": "2023-11-21T09:52:24.321344Z"
    },
    "papermill": {
     "duration": 0.057061,
     "end_time": "2023-11-21T09:52:24.325098",
     "exception": false,
     "start_time": "2023-11-21T09:52:24.268037",
     "status": "completed"
    },
    "tags": []
   },
   "outputs": [
    {
     "name": "stdout",
     "output_type": "stream",
     "text": [
      "        Logit Marginal Effects       \n",
      "=====================================\n",
      "Dep. Variable:                 affair\n",
      "Method:                          dydx\n",
      "At:                           overall\n",
      "===================================================================================\n",
      "                     dy/dx    std err          z      P>|z|      [0.025      0.975]\n",
      "-----------------------------------------------------------------------------------\n",
      "occupation          0.0293      0.006      4.744      0.000       0.017       0.041\n",
      "educ               -0.0072      0.003     -2.538      0.011      -0.013      -0.002\n",
      "occupation_husb     0.0023      0.004      0.541      0.589      -0.006       0.010\n",
      "rate_marriage      -0.1308      0.005    -26.891      0.000      -0.140      -0.121\n",
      "age                -0.0110      0.002     -5.937      0.000      -0.015      -0.007\n",
      "yrs_married         0.0201      0.002     10.327      0.000       0.016       0.024\n",
      "children           -0.0008      0.006     -0.134      0.893      -0.012       0.011\n",
      "religious          -0.0685      0.006    -11.119      0.000      -0.081      -0.056\n",
      "===================================================================================\n"
     ]
    }
   ],
   "source": [
    "mfx = affair_mod.get_margeff()\n",
    "print(mfx.summary())"
   ]
  },
  {
   "cell_type": "code",
   "execution_count": 11,
   "id": "0ceb0809",
   "metadata": {
    "execution": {
     "iopub.execute_input": "2023-11-21T09:52:24.357985Z",
     "iopub.status.busy": "2023-11-21T09:52:24.356878Z",
     "iopub.status.idle": "2023-11-21T09:52:24.363324Z",
     "shell.execute_reply": "2023-11-21T09:52:24.362570Z"
    },
    "papermill": {
     "duration": 0.029141,
     "end_time": "2023-11-21T09:52:24.369955",
     "exception": false,
     "start_time": "2023-11-21T09:52:24.340814",
     "status": "completed"
    },
    "tags": []
   },
   "outputs": [
    {
     "name": "stdout",
     "output_type": "stream",
     "text": [
      "rate_marriage       4.000000\n",
      "age                37.000000\n",
      "yrs_married        23.000000\n",
      "children            3.000000\n",
      "religious           3.000000\n",
      "educ               12.000000\n",
      "occupation          3.000000\n",
      "occupation_husb     4.000000\n",
      "affairs             0.521739\n",
      "affair              1.000000\n",
      "Name: 1000, dtype: float64\n"
     ]
    }
   ],
   "source": [
    "respondent1000 = dta.iloc[1000]\n",
    "print(respondent1000)"
   ]
  },
  {
   "cell_type": "code",
   "execution_count": 12,
   "id": "f0e88d31",
   "metadata": {
    "execution": {
     "iopub.execute_input": "2023-11-21T09:52:24.403612Z",
     "iopub.status.busy": "2023-11-21T09:52:24.402511Z",
     "iopub.status.idle": "2023-11-21T09:52:24.411552Z",
     "shell.execute_reply": "2023-11-21T09:52:24.410720Z"
    },
    "papermill": {
     "duration": 0.030839,
     "end_time": "2023-11-21T09:52:24.416790",
     "exception": false,
     "start_time": "2023-11-21T09:52:24.385951",
     "status": "completed"
    },
    "tags": []
   },
   "outputs": [
    {
     "name": "stdout",
     "output_type": "stream",
     "text": [
      "{1: 3.0, 2: 12.0, 3: 4.0, 4: 4.0, 5: 37.0, 6: 23.0, 7: 3.0, 8: 3.0, 0: 1}\n"
     ]
    }
   ],
   "source": [
    "resp = dict(\n",
    "    zip(\n",
    "        range(1, 9),\n",
    "        respondent1000[\n",
    "            [\n",
    "                \"occupation\",\n",
    "                \"educ\",\n",
    "                \"occupation_husb\",\n",
    "                \"rate_marriage\",\n",
    "                \"age\",\n",
    "                \"yrs_married\",\n",
    "                \"children\",\n",
    "                \"religious\",\n",
    "            ]\n",
    "        ].tolist(),\n",
    "    )\n",
    ")\n",
    "resp.update({0: 1})\n",
    "print(resp)"
   ]
  },
  {
   "cell_type": "code",
   "execution_count": 13,
   "id": "67d11fea",
   "metadata": {
    "execution": {
     "iopub.execute_input": "2023-11-21T09:52:24.444614Z",
     "iopub.status.busy": "2023-11-21T09:52:24.444286Z",
     "iopub.status.idle": "2023-11-21T09:52:24.473636Z",
     "shell.execute_reply": "2023-11-21T09:52:24.472715Z"
    },
    "papermill": {
     "duration": 0.044807,
     "end_time": "2023-11-21T09:52:24.476032",
     "exception": false,
     "start_time": "2023-11-21T09:52:24.431225",
     "status": "completed"
    },
    "tags": []
   },
   "outputs": [
    {
     "name": "stdout",
     "output_type": "stream",
     "text": [
      "        Logit Marginal Effects       \n",
      "=====================================\n",
      "Dep. Variable:                 affair\n",
      "Method:                          dydx\n",
      "At:                           overall\n",
      "===================================================================================\n",
      "                     dy/dx    std err          z      P>|z|      [0.025      0.975]\n",
      "-----------------------------------------------------------------------------------\n",
      "occupation          0.0400      0.008      4.711      0.000       0.023       0.057\n",
      "educ               -0.0098      0.004     -2.537      0.011      -0.017      -0.002\n",
      "occupation_husb     0.0031      0.006      0.541      0.589      -0.008       0.014\n",
      "rate_marriage      -0.1788      0.008    -22.743      0.000      -0.194      -0.163\n",
      "age                -0.0151      0.003     -5.928      0.000      -0.020      -0.010\n",
      "yrs_married         0.0275      0.003     10.256      0.000       0.022       0.033\n",
      "children           -0.0011      0.008     -0.134      0.893      -0.017       0.014\n",
      "religious          -0.0937      0.009    -10.722      0.000      -0.111      -0.077\n",
      "===================================================================================\n"
     ]
    }
   ],
   "source": [
    "mfx = affair_mod.get_margeff(atexog=resp)\n",
    "print(mfx.summary())"
   ]
  },
  {
   "cell_type": "markdown",
   "id": "ca29024e",
   "metadata": {
    "papermill": {
     "duration": 0.014971,
     "end_time": "2023-11-21T09:52:24.506502",
     "exception": false,
     "start_time": "2023-11-21T09:52:24.491531",
     "status": "completed"
    },
    "tags": []
   },
   "source": [
    "`predict` expects a `DataFrame` since `patsy` is used to select columns."
   ]
  },
  {
   "cell_type": "code",
   "execution_count": 14,
   "id": "0d965794",
   "metadata": {
    "execution": {
     "iopub.execute_input": "2023-11-21T09:52:24.540719Z",
     "iopub.status.busy": "2023-11-21T09:52:24.540375Z",
     "iopub.status.idle": "2023-11-21T09:52:24.558118Z",
     "shell.execute_reply": "2023-11-21T09:52:24.557300Z"
    },
    "papermill": {
     "duration": 0.037411,
     "end_time": "2023-11-21T09:52:24.560030",
     "exception": false,
     "start_time": "2023-11-21T09:52:24.522619",
     "status": "completed"
    },
    "tags": []
   },
   "outputs": [
    {
     "data": {
      "text/plain": [
       "1000    0.518782\n",
       "dtype: float64"
      ]
     },
     "execution_count": 14,
     "metadata": {},
     "output_type": "execute_result"
    }
   ],
   "source": [
    "respondent1000 = dta.iloc[[1000]]\n",
    "affair_mod.predict(respondent1000)"
   ]
  },
  {
   "cell_type": "code",
   "execution_count": 15,
   "id": "fcfaad42",
   "metadata": {
    "execution": {
     "iopub.execute_input": "2023-11-21T09:52:24.589792Z",
     "iopub.status.busy": "2023-11-21T09:52:24.589461Z",
     "iopub.status.idle": "2023-11-21T09:52:24.598657Z",
     "shell.execute_reply": "2023-11-21T09:52:24.597857Z"
    },
    "papermill": {
     "duration": 0.025082,
     "end_time": "2023-11-21T09:52:24.600425",
     "exception": false,
     "start_time": "2023-11-21T09:52:24.575343",
     "status": "completed"
    },
    "tags": []
   },
   "outputs": [
    {
     "data": {
      "text/plain": [
       "0.07516159285056506"
      ]
     },
     "execution_count": 15,
     "metadata": {},
     "output_type": "execute_result"
    }
   ],
   "source": [
    "affair_mod.fittedvalues[1000]"
   ]
  },
  {
   "cell_type": "code",
   "execution_count": 16,
   "id": "9aba4940",
   "metadata": {
    "execution": {
     "iopub.execute_input": "2023-11-21T09:52:24.626705Z",
     "iopub.status.busy": "2023-11-21T09:52:24.626075Z",
     "iopub.status.idle": "2023-11-21T09:52:24.632201Z",
     "shell.execute_reply": "2023-11-21T09:52:24.631483Z"
    },
    "papermill": {
     "duration": 0.022141,
     "end_time": "2023-11-21T09:52:24.634808",
     "exception": false,
     "start_time": "2023-11-21T09:52:24.612667",
     "status": "completed"
    },
    "tags": []
   },
   "outputs": [
    {
     "data": {
      "text/plain": [
       "0.5187815572121476"
      ]
     },
     "execution_count": 16,
     "metadata": {},
     "output_type": "execute_result"
    }
   ],
   "source": [
    "affair_mod.model.cdf(affair_mod.fittedvalues[1000])"
   ]
  },
  {
   "cell_type": "markdown",
   "id": "bc00c4fb",
   "metadata": {
    "papermill": {
     "duration": 0.012742,
     "end_time": "2023-11-21T09:52:24.661090",
     "exception": false,
     "start_time": "2023-11-21T09:52:24.648348",
     "status": "completed"
    },
    "tags": []
   },
   "source": [
    "The “correct” model here is likely the Tobit model. We have an work in progress branch “tobit-model” on github, if anyone is interested in censored regression models."
   ]
  },
  {
   "cell_type": "markdown",
   "id": "0a5bddb9",
   "metadata": {
    "papermill": {
     "duration": 0.011712,
     "end_time": "2023-11-21T09:52:24.685252",
     "exception": false,
     "start_time": "2023-11-21T09:52:24.673540",
     "status": "completed"
    },
    "tags": []
   },
   "source": [
    "# Example Logit vs Probit"
   ]
  },
  {
   "cell_type": "code",
   "execution_count": 17,
   "id": "42200858",
   "metadata": {
    "execution": {
     "iopub.execute_input": "2023-11-21T09:52:24.712896Z",
     "iopub.status.busy": "2023-11-21T09:52:24.711562Z",
     "iopub.status.idle": "2023-11-21T09:52:24.957875Z",
     "shell.execute_reply": "2023-11-21T09:52:24.955885Z"
    },
    "papermill": {
     "duration": 0.263595,
     "end_time": "2023-11-21T09:52:24.960834",
     "exception": false,
     "start_time": "2023-11-21T09:52:24.697239",
     "status": "completed"
    },
    "tags": []
   },
   "outputs": [
    {
     "data": {
      "text/plain": [
       "<matplotlib.legend.Legend at 0x219bfc12ef0>"
      ]
     },
     "execution_count": 17,
     "metadata": {},
     "output_type": "execute_result"
    },
    {
     "data": {
      "image/png": "[encoded data removed]",
      "text/plain": [
       "<Figure size 600x600 with 1 Axes>"
      ]
     },
     "metadata": {},
     "output_type": "display_data"
    }
   ],
   "source": [
    "fig = plt.figure(figsize=(6, 6))\n",
    "ax = fig.add_subplot(111)\n",
    "support = np.linspace(-6, 6, 1000)\n",
    "ax.plot(support, stats.logistic.cdf(support), \"r-\", label=\"Logistic\")\n",
    "ax.plot(support, stats.norm.cdf(support), label=\"Probit\")\n",
    "ax.legend()"
   ]
  },
  {
   "cell_type": "code",
   "execution_count": 18,
   "id": "ebf91859",
   "metadata": {
    "execution": {
     "iopub.execute_input": "2023-11-21T09:52:24.989449Z",
     "iopub.status.busy": "2023-11-21T09:52:24.989051Z",
     "iopub.status.idle": "2023-11-21T09:52:25.213762Z",
     "shell.execute_reply": "2023-11-21T09:52:25.212416Z"
    },
    "papermill": {
     "duration": 0.241372,
     "end_time": "2023-11-21T09:52:25.216016",
     "exception": false,
     "start_time": "2023-11-21T09:52:24.974644",
     "status": "completed"
    },
    "tags": []
   },
   "outputs": [
    {
     "data": {
      "text/plain": [
       "<matplotlib.legend.Legend at 0x219c3e3e3b0>"
      ]
     },
     "execution_count": 18,
     "metadata": {},
     "output_type": "execute_result"
    },
    {
     "data": {
      "image/png": "[encoded data removed]",
      "text/plain": [
       "<Figure size 600x600 with 1 Axes>"
      ]
     },
     "metadata": {},
     "output_type": "display_data"
    }
   ],
   "source": [
    "fig = plt.figure(figsize=(6, 6))\n",
    "ax = fig.add_subplot(111)\n",
    "support = np.linspace(-6, 6, 1000)\n",
    "ax.plot(support, stats.logistic.pdf(support), \"r+\", label=\"Logistic\")\n",
    "ax.plot(support, stats.norm.pdf(support), label=\"Probit\")\n",
    "ax.legend()"
   ]
  },
  {
   "cell_type": "markdown",
   "id": "35cb0322",
   "metadata": {
    "papermill": {
     "duration": 0.012934,
     "end_time": "2023-11-21T09:52:25.242432",
     "exception": false,
     "start_time": "2023-11-21T09:52:25.229498",
     "status": "completed"
    },
    "tags": []
   },
   "source": [
    "Compare the estimates of the Logit Fair model above to a Probit model. Does the prediction table look better? Much difference in marginal effects?"
   ]
  },
  {
   "cell_type": "markdown",
   "id": "5fa1ac5c",
   "metadata": {
    "papermill": {
     "duration": 0.013656,
     "end_time": "2023-11-21T09:52:25.269352",
     "exception": false,
     "start_time": "2023-11-21T09:52:25.255696",
     "status": "completed"
    },
    "tags": []
   },
   "source": [
    "# Generalized Linear Model Example"
   ]
  },
  {
   "cell_type": "code",
   "execution_count": 19,
   "id": "3555ce9c",
   "metadata": {
    "execution": {
     "iopub.execute_input": "2023-11-21T09:52:25.299530Z",
     "iopub.status.busy": "2023-11-21T09:52:25.299144Z",
     "iopub.status.idle": "2023-11-21T09:52:25.304486Z",
     "shell.execute_reply": "2023-11-21T09:52:25.303072Z"
    },
    "papermill": {
     "duration": 0.023142,
     "end_time": "2023-11-21T09:52:25.306614",
     "exception": false,
     "start_time": "2023-11-21T09:52:25.283472",
     "status": "completed"
    },
    "tags": []
   },
   "outputs": [
    {
     "name": "stdout",
     "output_type": "stream",
     "text": [
      "\n",
      "Jeff Gill's `Generalized Linear Models: A Unified Approach`\n",
      "\n",
      "http://jgill.wustl.edu/research/books.html\n",
      "\n"
     ]
    }
   ],
   "source": [
    "print(sm.datasets.star98.SOURCE)"
   ]
  },
  {
   "cell_type": "code",
   "execution_count": 20,
   "id": "1cec7e7c",
   "metadata": {
    "execution": {
     "iopub.execute_input": "2023-11-21T09:52:25.335843Z",
     "iopub.status.busy": "2023-11-21T09:52:25.334989Z",
     "iopub.status.idle": "2023-11-21T09:52:25.341053Z",
     "shell.execute_reply": "2023-11-21T09:52:25.340098Z"
    },
    "papermill": {
     "duration": 0.023054,
     "end_time": "2023-11-21T09:52:25.343199",
     "exception": false,
     "start_time": "2023-11-21T09:52:25.320145",
     "status": "completed"
    },
    "tags": []
   },
   "outputs": [
    {
     "name": "stdout",
     "output_type": "stream",
     "text": [
      "\n",
      "This data is on the California education policy and outcomes (STAR program\n",
      "results for 1998.  The data measured standardized testing by the California\n",
      "Department of Education that required evaluation of 2nd - 11th grade students\n",
      "by the the Stanford 9 test on a variety of subjects.  This dataset is at\n",
      "the level of the unified school district and consists of 303 cases.  The\n",
      "binary response variable represents the number of 9th graders scoring\n",
      "over the national median value on the mathematics exam.\n",
      "\n",
      "The data used in this example is only a subset of the original source.\n",
      "\n"
     ]
    }
   ],
   "source": [
    "print(sm.datasets.star98.DESCRLONG)"
   ]
  },
  {
   "cell_type": "code",
   "execution_count": 21,
   "id": "fa794103",
   "metadata": {
    "execution": {
     "iopub.execute_input": "2023-11-21T09:52:25.372387Z",
     "iopub.status.busy": "2023-11-21T09:52:25.371928Z",
     "iopub.status.idle": "2023-11-21T09:52:25.378772Z",
     "shell.execute_reply": "2023-11-21T09:52:25.376799Z"
    },
    "papermill": {
     "duration": 0.024488,
     "end_time": "2023-11-21T09:52:25.381245",
     "exception": false,
     "start_time": "2023-11-21T09:52:25.356757",
     "status": "completed"
    },
    "tags": []
   },
   "outputs": [
    {
     "name": "stdout",
     "output_type": "stream",
     "text": [
      "::\n",
      "\n",
      "    Number of Observations - 303 (counties in California).\n",
      "\n",
      "    Number of Variables - 13 and 8 interaction terms.\n",
      "\n",
      "    Definition of variables names::\n",
      "\n",
      "        NABOVE   - Total number of students above the national median for the\n",
      "                   math section.\n",
      "        NBELOW   - Total number of students below the national median for the\n",
      "                   math section.\n",
      "        LOWINC   - Percentage of low income students\n",
      "        PERASIAN - Percentage of Asian student\n",
      "        PERBLACK - Percentage of black students\n",
      "        PERHISP  - Percentage of Hispanic students\n",
      "        PERMINTE - Percentage of minority teachers\n",
      "        AVYRSEXP - Sum of teachers' years in educational service divided by the\n",
      "                number of teachers.\n",
      "        AVSALK   - Total salary budget including benefits divided by the number\n",
      "                   of full-time teachers (in thousands)\n",
      "        PERSPENK - Per-pupil spending (in thousands)\n",
      "        PTRATIO  - Pupil-teacher ratio.\n",
      "        PCTAF    - Percentage of students taking UC/CSU prep courses\n",
      "        PCTCHRT  - Percentage of charter schools\n",
      "        PCTYRRND - Percentage of year-round schools\n",
      "\n",
      "        The below variables are interaction terms of the variables defined\n",
      "        above.\n",
      "\n",
      "        PERMINTE_AVYRSEXP\n",
      "        PEMINTE_AVSAL\n",
      "        AVYRSEXP_AVSAL\n",
      "        PERSPEN_PTRATIO\n",
      "        PERSPEN_PCTAF\n",
      "        PTRATIO_PCTAF\n",
      "        PERMINTE_AVTRSEXP_AVSAL\n",
      "        PERSPEN_PTRATIO_PCTAF\n",
      "\n"
     ]
    }
   ],
   "source": [
    "print(sm.datasets.star98.NOTE)"
   ]
  },
  {
   "cell_type": "code",
   "execution_count": 22,
   "id": "e5e36525",
   "metadata": {
    "execution": {
     "iopub.execute_input": "2023-11-21T09:52:25.411823Z",
     "iopub.status.busy": "2023-11-21T09:52:25.411452Z",
     "iopub.status.idle": "2023-11-21T09:52:25.426743Z",
     "shell.execute_reply": "2023-11-21T09:52:25.425241Z"
    },
    "papermill": {
     "duration": 0.033744,
     "end_time": "2023-11-21T09:52:25.429219",
     "exception": false,
     "start_time": "2023-11-21T09:52:25.395475",
     "status": "completed"
    },
    "tags": []
   },
   "outputs": [
    {
     "name": "stdout",
     "output_type": "stream",
     "text": [
      "Index(['NABOVE', 'NBELOW', 'LOWINC', 'PERASIAN', 'PERBLACK', 'PERHISP',\n",
      "       'PERMINTE', 'AVYRSEXP', 'AVSALK', 'PERSPENK', 'PTRATIO', 'PCTAF',\n",
      "       'PCTCHRT', 'PCTYRRND', 'PERMINTE_AVYRSEXP', 'PERMINTE_AVSAL',\n",
      "       'AVYRSEXP_AVSAL', 'PERSPEN_PTRATIO', 'PERSPEN_PCTAF', 'PTRATIO_PCTAF',\n",
      "       'PERMINTE_AVYRSEXP_AVSAL', 'PERSPEN_PTRATIO_PCTAF'],\n",
      "      dtype='object')\n"
     ]
    }
   ],
   "source": [
    "dta = sm.datasets.star98.load_pandas().data\n",
    "print(dta.columns)"
   ]
  },
  {
   "cell_type": "code",
   "execution_count": 23,
   "id": "aae647c6",
   "metadata": {
    "execution": {
     "iopub.execute_input": "2023-11-21T09:52:25.458750Z",
     "iopub.status.busy": "2023-11-21T09:52:25.458402Z",
     "iopub.status.idle": "2023-11-21T09:52:25.470778Z",
     "shell.execute_reply": "2023-11-21T09:52:25.469358Z"
    },
    "papermill": {
     "duration": 0.029878,
     "end_time": "2023-11-21T09:52:25.473291",
     "exception": false,
     "start_time": "2023-11-21T09:52:25.443413",
     "status": "completed"
    },
    "tags": []
   },
   "outputs": [
    {
     "name": "stdout",
     "output_type": "stream",
     "text": [
      "   NABOVE  NBELOW    LOWINC   PERASIAN   PERBLACK    PERHISP   PERMINTE\n",
      "0   452.0   355.0  34.39730  23.299300  14.235280  11.411120  15.918370\n",
      "1   144.0    40.0  17.36507  29.328380   8.234897   9.314884  13.636360\n",
      "2   337.0   234.0  32.64324   9.226386  42.406310  13.543720  28.834360\n",
      "3   395.0   178.0  11.90953  13.883090   3.796973  11.443110  11.111110\n",
      "4     8.0    57.0  36.88889  12.187500  76.875000   7.604167  43.589740\n",
      "5  1348.0   899.0  20.93149  28.023510   4.643221  13.808160  15.378490\n",
      "6   477.0   887.0  53.26898   8.447858  19.374830  37.905330  25.525530\n",
      "7   565.0   347.0  15.19009   3.665781   2.649680  13.092070   6.203008\n",
      "8   205.0   320.0  28.21582  10.430420   6.786374  32.334300  13.461540\n",
      "9   469.0   598.0  32.77897  17.178310  12.484930  28.323290  27.259890\n"
     ]
    }
   ],
   "source": [
    "print(\n",
    "    dta[\n",
    "        [\"NABOVE\", \"NBELOW\", \"LOWINC\", \"PERASIAN\", \"PERBLACK\", \"PERHISP\", \"PERMINTE\"]\n",
    "    ].head(10)\n",
    ")"
   ]
  },
  {
   "cell_type": "code",
   "execution_count": 24,
   "id": "73b12142",
   "metadata": {
    "execution": {
     "iopub.execute_input": "2023-11-21T09:52:25.503791Z",
     "iopub.status.busy": "2023-11-21T09:52:25.503188Z",
     "iopub.status.idle": "2023-11-21T09:52:25.512890Z",
     "shell.execute_reply": "2023-11-21T09:52:25.512034Z"
    },
    "papermill": {
     "duration": 0.027056,
     "end_time": "2023-11-21T09:52:25.514874",
     "exception": false,
     "start_time": "2023-11-21T09:52:25.487818",
     "status": "completed"
    },
    "tags": []
   },
   "outputs": [
    {
     "name": "stdout",
     "output_type": "stream",
     "text": [
      "   AVYRSEXP    AVSALK  PERSPENK   PTRATIO     PCTAF  PCTCHRT   PCTYRRND\n",
      "0  14.70646  59.15732  4.445207  21.71025  57.03276      0.0  22.222220\n",
      "1  16.08324  59.50397  5.267598  20.44278  64.62264      0.0   0.000000\n",
      "2  14.59559  60.56992  5.482922  18.95419  53.94191      0.0   0.000000\n",
      "3  14.38939  58.33411  4.165093  21.63539  49.06103      0.0   7.142857\n",
      "4  13.90568  63.15364  4.324902  18.77984  52.38095      0.0   0.000000\n",
      "5  14.97755  66.97055  3.916104  24.51914  44.91578      0.0   2.380952\n",
      "6  14.67829  57.62195  4.270903  22.21278  32.28916      0.0  12.121210\n",
      "7  13.66197  63.44740  4.309734  24.59026  30.45267      0.0   0.000000\n",
      "8  16.41760  57.84564  4.527603  21.74138  22.64574      0.0   0.000000\n",
      "9  12.51864  57.80141  4.648917  20.26010  26.07099      0.0   0.000000\n"
     ]
    }
   ],
   "source": [
    "print(\n",
    "    dta[\n",
    "        [\"AVYRSEXP\", \"AVSALK\", \"PERSPENK\", \"PTRATIO\", \"PCTAF\", \"PCTCHRT\", \"PCTYRRND\"]\n",
    "    ].head(10)\n",
    ")"
   ]
  },
  {
   "cell_type": "code",
   "execution_count": 25,
   "id": "bf6b9f6c",
   "metadata": {
    "execution": {
     "iopub.execute_input": "2023-11-21T09:52:25.543870Z",
     "iopub.status.busy": "2023-11-21T09:52:25.543509Z",
     "iopub.status.idle": "2023-11-21T09:52:25.549170Z",
     "shell.execute_reply": "2023-11-21T09:52:25.548096Z"
    },
    "papermill": {
     "duration": 0.022435,
     "end_time": "2023-11-21T09:52:25.551058",
     "exception": false,
     "start_time": "2023-11-21T09:52:25.528623",
     "status": "completed"
    },
    "tags": []
   },
   "outputs": [],
   "source": [
    "formula = \"NABOVE + NBELOW ~ LOWINC + PERASIAN + PERBLACK + PERHISP + PCTCHRT \"\n",
    "formula += \"+ PCTYRRND + PERMINTE*AVYRSEXP*AVSALK + PERSPENK*PTRATIO*PCTAF\""
   ]
  },
  {
   "cell_type": "markdown",
   "id": "7cc47620",
   "metadata": {
    "papermill": {
     "duration": 0.013586,
     "end_time": "2023-11-21T09:52:25.579057",
     "exception": false,
     "start_time": "2023-11-21T09:52:25.565471",
     "status": "completed"
    },
    "tags": []
   },
   "source": [
    "# Aside: Binomial distribution\n",
    "Toss a six-sided die 5 times, what’s the probability of exactly 2 fours?"
   ]
  },
  {
   "cell_type": "code",
   "execution_count": 26,
   "id": "a4ff657b",
   "metadata": {
    "execution": {
     "iopub.execute_input": "2023-11-21T09:52:25.608691Z",
     "iopub.status.busy": "2023-11-21T09:52:25.608345Z",
     "iopub.status.idle": "2023-11-21T09:52:25.616709Z",
     "shell.execute_reply": "2023-11-21T09:52:25.615515Z"
    },
    "papermill": {
     "duration": 0.026441,
     "end_time": "2023-11-21T09:52:25.619258",
     "exception": false,
     "start_time": "2023-11-21T09:52:25.592817",
     "status": "completed"
    },
    "tags": []
   },
   "outputs": [
    {
     "data": {
      "text/plain": [
       "0.16075102880658423"
      ]
     },
     "execution_count": 26,
     "metadata": {},
     "output_type": "execute_result"
    }
   ],
   "source": [
    "stats.binom(5, 1.0 / 6).pmf(2)"
   ]
  },
  {
   "cell_type": "code",
   "execution_count": 27,
   "id": "2d8cf16d",
   "metadata": {
    "execution": {
     "iopub.execute_input": "2023-11-21T09:52:25.650951Z",
     "iopub.status.busy": "2023-11-21T09:52:25.650608Z",
     "iopub.status.idle": "2023-11-21T09:52:25.656988Z",
     "shell.execute_reply": "2023-11-21T09:52:25.656063Z"
    },
    "papermill": {
     "duration": 0.023807,
     "end_time": "2023-11-21T09:52:25.658699",
     "exception": false,
     "start_time": "2023-11-21T09:52:25.634892",
     "status": "completed"
    },
    "tags": []
   },
   "outputs": [
    {
     "data": {
      "text/plain": [
       "0.1607510288065844"
      ]
     },
     "execution_count": 27,
     "metadata": {},
     "output_type": "execute_result"
    }
   ],
   "source": [
    "from scipy.special import comb\n",
    "\n",
    "comb(5, 2) * (1 / 6.0) ** 2 * (5 / 6.0) ** 3"
   ]
  },
  {
   "cell_type": "code",
   "execution_count": 28,
   "id": "06deb5c1",
   "metadata": {
    "execution": {
     "iopub.execute_input": "2023-11-21T09:52:25.688603Z",
     "iopub.status.busy": "2023-11-21T09:52:25.688250Z",
     "iopub.status.idle": "2023-11-21T09:52:25.729889Z",
     "shell.execute_reply": "2023-11-21T09:52:25.728497Z"
    },
    "papermill": {
     "duration": 0.059755,
     "end_time": "2023-11-21T09:52:25.732699",
     "exception": false,
     "start_time": "2023-11-21T09:52:25.672944",
     "status": "completed"
    },
    "tags": []
   },
   "outputs": [],
   "source": [
    "from statsmodels.formula.api import glm\n",
    "\n",
    "glm_mod = glm(formula, dta, family=sm.families.Binomial()).fit()"
   ]
  },
  {
   "cell_type": "code",
   "execution_count": 29,
   "id": "331dc8e5",
   "metadata": {
    "execution": {
     "iopub.execute_input": "2023-11-21T09:52:25.764216Z",
     "iopub.status.busy": "2023-11-21T09:52:25.763867Z",
     "iopub.status.idle": "2023-11-21T09:52:25.779992Z",
     "shell.execute_reply": "2023-11-21T09:52:25.779058Z"
    },
    "papermill": {
     "duration": 0.034654,
     "end_time": "2023-11-21T09:52:25.781973",
     "exception": false,
     "start_time": "2023-11-21T09:52:25.747319",
     "status": "completed"
    },
    "tags": []
   },
   "outputs": [
    {
     "name": "stdout",
     "output_type": "stream",
     "text": [
      "                  Generalized Linear Model Regression Results                   \n",
      "================================================================================\n",
      "Dep. Variable:     ['NABOVE', 'NBELOW']   No. Observations:                  303\n",
      "Model:                              GLM   Df Residuals:                      282\n",
      "Model Family:                  Binomial   Df Model:                           20\n",
      "Link Function:                    Logit   Scale:                          1.0000\n",
      "Method:                            IRLS   Log-Likelihood:                -2998.6\n",
      "Date:                  Wed, 29 Nov 2023   Deviance:                       4078.8\n",
      "Time:                          16:01:01   Pearson chi2:                 4.05e+03\n",
      "No. Iterations:                       5   Pseudo R-squ. (CS):              1.000\n",
      "Covariance Type:              nonrobust                                         \n",
      "============================================================================================\n",
      "                               coef    std err          z      P>|z|      [0.025      0.975]\n",
      "--------------------------------------------------------------------------------------------\n",
      "Intercept                    2.9589      1.547      1.913      0.056      -0.073       5.990\n",
      "LOWINC                      -0.0168      0.000    -38.749      0.000      -0.018      -0.016\n",
      "PERASIAN                     0.0099      0.001     16.505      0.000       0.009       0.011\n",
      "PERBLACK                    -0.0187      0.001    -25.182      0.000      -0.020      -0.017\n",
      "PERHISP                     -0.0142      0.000    -32.818      0.000      -0.015      -0.013\n",
      "PCTCHRT                      0.0049      0.001      3.921      0.000       0.002       0.007\n",
      "PCTYRRND                    -0.0036      0.000    -15.878      0.000      -0.004      -0.003\n",
      "PERMINTE                     0.2545      0.030      8.498      0.000       0.196       0.313\n",
      "AVYRSEXP                     0.2407      0.057      4.212      0.000       0.129       0.353\n",
      "PERMINTE:AVYRSEXP           -0.0141      0.002     -7.391      0.000      -0.018      -0.010\n",
      "AVSALK                       0.0804      0.014      5.775      0.000       0.053       0.108\n",
      "PERMINTE:AVSALK             -0.0040      0.000     -8.450      0.000      -0.005      -0.003\n",
      "AVYRSEXP:AVSALK             -0.0039      0.001     -4.059      0.000      -0.006      -0.002\n",
      "PERMINTE:AVYRSEXP:AVSALK     0.0002   2.99e-05      7.428      0.000       0.000       0.000\n",
      "PERSPENK                    -1.9522      0.317     -6.162      0.000      -2.573      -1.331\n",
      "PTRATIO                     -0.3341      0.061     -5.453      0.000      -0.454      -0.214\n",
      "PERSPENK:PTRATIO             0.0917      0.015      6.321      0.000       0.063       0.120\n",
      "PCTAF                       -0.1690      0.033     -5.169      0.000      -0.233      -0.105\n",
      "PERSPENK:PCTAF               0.0490      0.007      6.574      0.000       0.034       0.064\n",
      "PTRATIO:PCTAF                0.0080      0.001      5.362      0.000       0.005       0.011\n",
      "PERSPENK:PTRATIO:PCTAF      -0.0022      0.000     -6.445      0.000      -0.003      -0.002\n",
      "============================================================================================\n"
     ]
    }
   ],
   "source": [
    "print(glm_mod.summary())"
   ]
  },
  {
   "cell_type": "markdown",
   "id": "6744660d",
   "metadata": {
    "papermill": {
     "duration": 0.013358,
     "end_time": "2023-11-21T09:52:25.809582",
     "exception": false,
     "start_time": "2023-11-21T09:52:25.796224",
     "status": "completed"
    },
    "tags": []
   },
   "source": [
    "The number of trials"
   ]
  },
  {
   "cell_type": "code",
   "execution_count": 30,
   "id": "bd60e33e",
   "metadata": {
    "execution": {
     "iopub.execute_input": "2023-11-21T09:52:25.841052Z",
     "iopub.status.busy": "2023-11-21T09:52:25.840243Z",
     "iopub.status.idle": "2023-11-21T09:52:25.851055Z",
     "shell.execute_reply": "2023-11-21T09:52:25.849768Z"
    },
    "papermill": {
     "duration": 0.029365,
     "end_time": "2023-11-21T09:52:25.853715",
     "exception": false,
     "start_time": "2023-11-21T09:52:25.824350",
     "status": "completed"
    },
    "tags": []
   },
   "outputs": [
    {
     "data": {
      "text/plain": [
       "0      807.0\n",
       "1      184.0\n",
       "2      571.0\n",
       "3      573.0\n",
       "4       65.0\n",
       "       ...  \n",
       "298    342.0\n",
       "299    154.0\n",
       "300    595.0\n",
       "301    709.0\n",
       "302    156.0\n",
       "Length: 303, dtype: float64"
      ]
     },
     "execution_count": 30,
     "metadata": {},
     "output_type": "execute_result"
    }
   ],
   "source": [
    "glm_mod.model.data.orig_endog.sum(1)"
   ]
  },
  {
   "cell_type": "code",
   "execution_count": 31,
   "id": "06c05183",
   "metadata": {
    "execution": {
     "iopub.execute_input": "2023-11-21T09:52:25.885213Z",
     "iopub.status.busy": "2023-11-21T09:52:25.884598Z",
     "iopub.status.idle": "2023-11-21T09:52:25.895155Z",
     "shell.execute_reply": "2023-11-21T09:52:25.893047Z"
    },
    "papermill": {
     "duration": 0.029393,
     "end_time": "2023-11-21T09:52:25.897638",
     "exception": false,
     "start_time": "2023-11-21T09:52:25.868245",
     "status": "completed"
    },
    "tags": []
   },
   "outputs": [
    {
     "data": {
      "text/plain": [
       "0      470.732584\n",
       "1      138.266178\n",
       "2      285.832629\n",
       "3      392.702917\n",
       "4       20.963146\n",
       "          ...    \n",
       "298    111.464708\n",
       "299     61.037884\n",
       "300    235.517446\n",
       "301    290.952508\n",
       "302     53.312851\n",
       "Length: 303, dtype: float64"
      ]
     },
     "execution_count": 31,
     "metadata": {},
     "output_type": "execute_result"
    }
   ],
   "source": [
    "glm_mod.fittedvalues * glm_mod.model.data.orig_endog.sum(1)"
   ]
  },
  {
   "cell_type": "markdown",
   "id": "1fcf34ba",
   "metadata": {
    "papermill": {
     "duration": 0.014298,
     "end_time": "2023-11-21T09:52:25.926740",
     "exception": false,
     "start_time": "2023-11-21T09:52:25.912442",
     "status": "completed"
    },
    "tags": []
   },
   "source": [
    "First differences: We hold all explanatory variables constant at their means and manipulate the percentage of low income households to assess its impact on the response variables:"
   ]
  },
  {
   "cell_type": "code",
   "execution_count": 32,
   "id": "fd887c52",
   "metadata": {
    "execution": {
     "iopub.execute_input": "2023-11-21T09:52:25.957006Z",
     "iopub.status.busy": "2023-11-21T09:52:25.956633Z",
     "iopub.status.idle": "2023-11-21T09:52:25.962120Z",
     "shell.execute_reply": "2023-11-21T09:52:25.960389Z"
    },
    "papermill": {
     "duration": 0.023101,
     "end_time": "2023-11-21T09:52:25.964213",
     "exception": false,
     "start_time": "2023-11-21T09:52:25.941112",
     "status": "completed"
    },
    "tags": []
   },
   "outputs": [],
   "source": [
    "exog = glm_mod.model.data.orig_exog  # get the dataframe"
   ]
  },
  {
   "cell_type": "code",
   "execution_count": 33,
   "id": "bbfed6de",
   "metadata": {
    "execution": {
     "iopub.execute_input": "2023-11-21T09:52:25.995066Z",
     "iopub.status.busy": "2023-11-21T09:52:25.994713Z",
     "iopub.status.idle": "2023-11-21T09:52:26.002304Z",
     "shell.execute_reply": "2023-11-21T09:52:26.000968Z"
    },
    "papermill": {
     "duration": 0.025924,
     "end_time": "2023-11-21T09:52:26.004786",
     "exception": false,
     "start_time": "2023-11-21T09:52:25.978862",
     "status": "completed"
    },
    "tags": []
   },
   "outputs": [
    {
     "name": "stdout",
     "output_type": "stream",
     "text": [
      "Intercept                       1.000000\n",
      "LOWINC                         41.409877\n",
      "PERASIAN                        5.896335\n",
      "PERBLACK                        5.636808\n",
      "PERHISP                        34.398080\n",
      "PCTCHRT                         1.175909\n",
      "PCTYRRND                       11.611905\n",
      "PERMINTE                       14.694747\n",
      "AVYRSEXP                       14.253875\n",
      "PERMINTE:AVYRSEXP             209.018700\n",
      "AVSALK                         58.640258\n",
      "PERMINTE:AVSALK               879.979883\n",
      "AVYRSEXP:AVSALK               839.718173\n",
      "PERMINTE:AVYRSEXP:AVSALK    12585.266464\n",
      "PERSPENK                        4.320310\n",
      "PTRATIO                        22.464250\n",
      "PERSPENK:PTRATIO               96.295756\n",
      "PCTAF                          33.630593\n",
      "PERSPENK:PCTAF                147.235740\n",
      "PTRATIO:PCTAF                 747.445536\n",
      "PERSPENK:PTRATIO:PCTAF       3243.607568\n",
      "dtype: float64\n"
     ]
    }
   ],
   "source": [
    "means25 = exog.mean()\n",
    "print(means25)"
   ]
  },
  {
   "cell_type": "code",
   "execution_count": 34,
   "id": "6625e47c",
   "metadata": {
    "execution": {
     "iopub.execute_input": "2023-11-21T09:52:26.036067Z",
     "iopub.status.busy": "2023-11-21T09:52:26.035088Z",
     "iopub.status.idle": "2023-11-21T09:52:26.044242Z",
     "shell.execute_reply": "2023-11-21T09:52:26.042425Z"
    },
    "papermill": {
     "duration": 0.027057,
     "end_time": "2023-11-21T09:52:26.046595",
     "exception": false,
     "start_time": "2023-11-21T09:52:26.019538",
     "status": "completed"
    },
    "tags": []
   },
   "outputs": [
    {
     "name": "stdout",
     "output_type": "stream",
     "text": [
      "Intercept                       1.000000\n",
      "LOWINC                         26.683040\n",
      "PERASIAN                        5.896335\n",
      "PERBLACK                        5.636808\n",
      "PERHISP                        34.398080\n",
      "PCTCHRT                         1.175909\n",
      "PCTYRRND                       11.611905\n",
      "PERMINTE                       14.694747\n",
      "AVYRSEXP                       14.253875\n",
      "PERMINTE:AVYRSEXP             209.018700\n",
      "AVSALK                         58.640258\n",
      "PERMINTE:AVSALK               879.979883\n",
      "AVYRSEXP:AVSALK               839.718173\n",
      "PERMINTE:AVYRSEXP:AVSALK    12585.266464\n",
      "PERSPENK                        4.320310\n",
      "PTRATIO                        22.464250\n",
      "PERSPENK:PTRATIO               96.295756\n",
      "PCTAF                          33.630593\n",
      "PERSPENK:PCTAF                147.235740\n",
      "PTRATIO:PCTAF                 747.445536\n",
      "PERSPENK:PTRATIO:PCTAF       3243.607568\n",
      "dtype: float64\n"
     ]
    }
   ],
   "source": [
    "means25[\"LOWINC\"] = exog[\"LOWINC\"].quantile(0.25)\n",
    "print(means25)"
   ]
  },
  {
   "cell_type": "code",
   "execution_count": 35,
   "id": "4f1bcea0",
   "metadata": {
    "execution": {
     "iopub.execute_input": "2023-11-21T09:52:26.077209Z",
     "iopub.status.busy": "2023-11-21T09:52:26.076850Z",
     "iopub.status.idle": "2023-11-21T09:52:26.085551Z",
     "shell.execute_reply": "2023-11-21T09:52:26.084324Z"
    },
    "papermill": {
     "duration": 0.026299,
     "end_time": "2023-11-21T09:52:26.087512",
     "exception": false,
     "start_time": "2023-11-21T09:52:26.061213",
     "status": "completed"
    },
    "tags": []
   },
   "outputs": [
    {
     "name": "stdout",
     "output_type": "stream",
     "text": [
      "Intercept                       1.000000\n",
      "LOWINC                         55.460075\n",
      "PERASIAN                        5.896335\n",
      "PERBLACK                        5.636808\n",
      "PERHISP                        34.398080\n",
      "PCTCHRT                         1.175909\n",
      "PCTYRRND                       11.611905\n",
      "PERMINTE                       14.694747\n",
      "AVYRSEXP                       14.253875\n",
      "PERMINTE:AVYRSEXP             209.018700\n",
      "AVSALK                         58.640258\n",
      "PERMINTE:AVSALK               879.979883\n",
      "AVYRSEXP:AVSALK               839.718173\n",
      "PERMINTE:AVYRSEXP:AVSALK    12585.266464\n",
      "PERSPENK                        4.320310\n",
      "PTRATIO                        22.464250\n",
      "PERSPENK:PTRATIO               96.295756\n",
      "PCTAF                          33.630593\n",
      "PERSPENK:PCTAF                147.235740\n",
      "PTRATIO:PCTAF                 747.445536\n",
      "PERSPENK:PTRATIO:PCTAF       3243.607568\n",
      "dtype: float64\n"
     ]
    }
   ],
   "source": [
    "means75 = exog.mean()\n",
    "means75[\"LOWINC\"] = exog[\"LOWINC\"].quantile(0.75)\n",
    "print(means75)"
   ]
  },
  {
   "cell_type": "markdown",
   "id": "f428cf6f",
   "metadata": {
    "papermill": {
     "duration": 0.014327,
     "end_time": "2023-11-21T09:52:26.116439",
     "exception": false,
     "start_time": "2023-11-21T09:52:26.102112",
     "status": "completed"
    },
    "tags": []
   },
   "source": [
    "Again, `predict` expects a `DataFrame` since `patsy` is used to select columns."
   ]
  },
  {
   "cell_type": "code",
   "execution_count": 36,
   "id": "8ed2532d",
   "metadata": {
    "execution": {
     "iopub.execute_input": "2023-11-21T09:52:26.147385Z",
     "iopub.status.busy": "2023-11-21T09:52:26.145761Z",
     "iopub.status.idle": "2023-11-21T09:52:26.176699Z",
     "shell.execute_reply": "2023-11-21T09:52:26.175684Z"
    },
    "papermill": {
     "duration": 0.048712,
     "end_time": "2023-11-21T09:52:26.179205",
     "exception": false,
     "start_time": "2023-11-21T09:52:26.130493",
     "status": "completed"
    },
    "tags": []
   },
   "outputs": [],
   "source": [
    "resp25 = glm_mod.predict(pd.DataFrame(means25).T)\n",
    "resp75 = glm_mod.predict(pd.DataFrame(means75).T)\n",
    "diff = resp75 - resp25"
   ]
  },
  {
   "cell_type": "markdown",
   "id": "6acb14fd",
   "metadata": {
    "papermill": {
     "duration": 0.0138,
     "end_time": "2023-11-21T09:52:26.207998",
     "exception": false,
     "start_time": "2023-11-21T09:52:26.194198",
     "status": "completed"
    },
    "tags": []
   },
   "source": [
    "The interquartile first difference for the percentage of low income households in a school district is:"
   ]
  },
  {
   "cell_type": "code",
   "execution_count": 37,
   "id": "8c040fdf",
   "metadata": {
    "execution": {
     "iopub.execute_input": "2023-11-21T09:52:26.237595Z",
     "iopub.status.busy": "2023-11-21T09:52:26.236954Z",
     "iopub.status.idle": "2023-11-21T09:52:26.243137Z",
     "shell.execute_reply": "2023-11-21T09:52:26.242123Z"
    },
    "papermill": {
     "duration": 0.023484,
     "end_time": "2023-11-21T09:52:26.245216",
     "exception": false,
     "start_time": "2023-11-21T09:52:26.221732",
     "status": "completed"
    },
    "tags": []
   },
   "outputs": [
    {
     "name": "stdout",
     "output_type": "stream",
     "text": [
      "-11.8863%\n"
     ]
    }
   ],
   "source": [
    "print(\"%2.4f%%\" % (diff[0] * 100))"
   ]
  },
  {
   "cell_type": "code",
   "execution_count": 38,
   "id": "b2850594",
   "metadata": {
    "execution": {
     "iopub.execute_input": "2023-11-21T09:52:26.276413Z",
     "iopub.status.busy": "2023-11-21T09:52:26.276032Z",
     "iopub.status.idle": "2023-11-21T09:52:26.280817Z",
     "shell.execute_reply": "2023-11-21T09:52:26.279910Z"
    },
    "papermill": {
     "duration": 0.022969,
     "end_time": "2023-11-21T09:52:26.283328",
     "exception": false,
     "start_time": "2023-11-21T09:52:26.260359",
     "status": "completed"
    },
    "tags": []
   },
   "outputs": [],
   "source": [
    "nobs = glm_mod.nobs\n",
    "y = glm_mod.model.endog\n",
    "yhat = glm_mod.mu"
   ]
  },
  {
   "cell_type": "code",
   "execution_count": 39,
   "id": "ff8e5a94",
   "metadata": {
    "execution": {
     "iopub.execute_input": "2023-11-21T09:52:26.314724Z",
     "iopub.status.busy": "2023-11-21T09:52:26.314382Z",
     "iopub.status.idle": "2023-11-21T09:52:26.521045Z",
     "shell.execute_reply": "2023-11-21T09:52:26.519348Z"
    },
    "papermill": {
     "duration": 0.224593,
     "end_time": "2023-11-21T09:52:26.523039",
     "exception": false,
     "start_time": "2023-11-21T09:52:26.298446",
     "status": "completed"
    },
    "tags": []
   },
   "outputs": [
    {
     "data": {
      "image/png": "[encoded data removed]",
      "text/plain": [
       "<Figure size 600x600 with 1 Axes>"
      ]
     },
     "metadata": {},
     "output_type": "display_data"
    }
   ],
   "source": [
    "from statsmodels.graphics.api import abline_plot\n",
    "\n",
    "fig = plt.figure(figsize=(6, 6))\n",
    "ax = fig.add_subplot(111, ylabel=\"Observed Values\", xlabel=\"Fitted Values\")\n",
    "ax.scatter(yhat, y)\n",
    "y_vs_yhat = sm.OLS(y, sm.add_constant(yhat, prepend=True)).fit()\n",
    "fig = abline_plot(model_results=y_vs_yhat, ax=ax)"
   ]
  },
  {
   "attachments": {
    "d4181594-f3c2-49bf-b428-a2ef5addb8d7.png": {
     "image/png": "[encoded data removed]"
    }
   },
   "cell_type": "markdown",
   "id": "eaca3100",
   "metadata": {
    "papermill": {
     "duration": 0.014428,
     "end_time": "2023-11-21T09:52:26.552335",
     "exception": false,
     "start_time": "2023-11-21T09:52:26.537907",
     "status": "completed"
    },
    "tags": []
   },
   "source": [
    "# Plot fitted values vs Pearson residuals\n",
    "Pearson residuals are defined to be\n",
    "\n",
    "![001.png](attachment:d4181594-f3c2-49bf-b428-a2ef5addb8d7.png)\n",
    "\n",
    "where var is typically determined by the family. E.g., binomial variance is $np(1-p)$"
   ]
  },
  {
   "cell_type": "code",
   "execution_count": 40,
   "id": "a38db163",
   "metadata": {
    "execution": {
     "iopub.execute_input": "2023-11-21T09:52:26.585600Z",
     "iopub.status.busy": "2023-11-21T09:52:26.584145Z",
     "iopub.status.idle": "2023-11-21T09:52:26.855583Z",
     "shell.execute_reply": "2023-11-21T09:52:26.854472Z"
    },
    "papermill": {
     "duration": 0.290377,
     "end_time": "2023-11-21T09:52:26.857556",
     "exception": false,
     "start_time": "2023-11-21T09:52:26.567179",
     "status": "completed"
    },
    "tags": []
   },
   "outputs": [
    {
     "data": {
      "text/plain": [
       "[<matplotlib.lines.Line2D at 0x219c3fdbca0>]"
      ]
     },
     "execution_count": 40,
     "metadata": {},
     "output_type": "execute_result"
    },
    {
     "data": {
      "image/png": "[encoded data removed]",
      "text/plain": [
       "<Figure size 800x800 with 1 Axes>"
      ]
     },
     "metadata": {},
     "output_type": "display_data"
    }
   ],
   "source": [
    "fig = plt.figure(figsize=(8, 8))\n",
    "ax = fig.add_subplot(\n",
    "    111,\n",
    "    title=\"Residual Dependence Plot\",\n",
    "    xlabel=\"Fitted Values\",\n",
    "    ylabel=\"Pearson Residuals\",\n",
    ")\n",
    "ax.scatter(yhat, stats.zscore(glm_mod.resid_pearson))\n",
    "ax.axis(\"tight\")\n",
    "ax.plot([0.0, 1.0], [0.0, 0.0], \"k-\")"
   ]
  },
  {
   "attachments": {
    "5aa5c59e-8c5b-4265-814b-3801bfdce87c.png": {
     "image/png": "[encoded data removed]"
    }
   },
   "cell_type": "markdown",
   "id": "61a7c5ba",
   "metadata": {
    "papermill": {
     "duration": 0.016816,
     "end_time": "2023-11-21T09:52:26.890425",
     "exception": false,
     "start_time": "2023-11-21T09:52:26.873609",
     "status": "completed"
    },
    "tags": []
   },
   "source": [
    "# Histogram of standardized deviance residuals with Kernel Density Estimate overlaid\n",
    "The definition of the deviance residuals depends on the family. For the Binomial distribution this is\n",
    "\n",
    "![002.png](attachment:5aa5c59e-8c5b-4265-814b-3801bfdce87c.png)\n",
    "\n",
    "They can be used to detect ill-fitting covariates\n"
   ]
  },
  {
   "cell_type": "code",
   "execution_count": 41,
   "id": "3adaaec4",
   "metadata": {
    "execution": {
     "iopub.execute_input": "2023-11-21T09:52:26.925843Z",
     "iopub.status.busy": "2023-11-21T09:52:26.924147Z",
     "iopub.status.idle": "2023-11-21T09:52:26.937308Z",
     "shell.execute_reply": "2023-11-21T09:52:26.935855Z"
    },
    "papermill": {
     "duration": 0.034084,
     "end_time": "2023-11-21T09:52:26.940257",
     "exception": false,
     "start_time": "2023-11-21T09:52:26.906173",
     "status": "completed"
    },
    "tags": []
   },
   "outputs": [
    {
     "data": {
      "text/plain": [
       "<statsmodels.nonparametric.kde.KDEUnivariate at 0x219c4029990>"
      ]
     },
     "execution_count": 41,
     "metadata": {},
     "output_type": "execute_result"
    }
   ],
   "source": [
    "resid = glm_mod.resid_deviance\n",
    "resid_std = stats.zscore(resid)\n",
    "kde_resid = sm.nonparametric.KDEUnivariate(resid_std)\n",
    "kde_resid.fit()"
   ]
  },
  {
   "cell_type": "code",
   "execution_count": 42,
   "id": "f875cb57",
   "metadata": {
    "execution": {
     "iopub.execute_input": "2023-11-21T09:52:26.974745Z",
     "iopub.status.busy": "2023-11-21T09:52:26.974363Z",
     "iopub.status.idle": "2023-11-21T09:52:27.223659Z",
     "shell.execute_reply": "2023-11-21T09:52:27.222575Z"
    },
    "papermill": {
     "duration": 0.27026,
     "end_time": "2023-11-21T09:52:27.226453",
     "exception": false,
     "start_time": "2023-11-21T09:52:26.956193",
     "status": "completed"
    },
    "tags": []
   },
   "outputs": [
    {
     "data": {
      "text/plain": [
       "[<matplotlib.lines.Line2D at 0x219c3ecd390>]"
      ]
     },
     "execution_count": 42,
     "metadata": {},
     "output_type": "execute_result"
    },
    {
     "data": {
      "image/png": "[encoded data removed]",
      "text/plain": [
       "<Figure size 800x800 with 1 Axes>"
      ]
     },
     "metadata": {},
     "output_type": "display_data"
    }
   ],
   "source": [
    "fig = plt.figure(figsize=(8, 8))\n",
    "ax = fig.add_subplot(111, title=\"Standardized Deviance Residuals\")\n",
    "ax.hist(resid_std, bins=25, density=True)\n",
    "ax.plot(kde_resid.support, kde_resid.density, \"r\")"
   ]
  },
  {
   "cell_type": "markdown",
   "id": "6b7b89a1",
   "metadata": {
    "papermill": {
     "duration": 0.01636,
     "end_time": "2023-11-21T09:52:27.259830",
     "exception": false,
     "start_time": "2023-11-21T09:52:27.243470",
     "status": "completed"
    },
    "tags": []
   },
   "source": [
    "# QQ-plot of deviance residuals"
   ]
  },
  {
   "cell_type": "code",
   "execution_count": 43,
   "id": "5f01333c",
   "metadata": {
    "execution": {
     "iopub.execute_input": "2023-11-21T09:52:27.294947Z",
     "iopub.status.busy": "2023-11-21T09:52:27.294576Z",
     "iopub.status.idle": "2023-11-21T09:52:27.487294Z",
     "shell.execute_reply": "2023-11-21T09:52:27.485975Z"
    },
    "papermill": {
     "duration": 0.213115,
     "end_time": "2023-11-21T09:52:27.489895",
     "exception": false,
     "start_time": "2023-11-21T09:52:27.276780",
     "status": "completed"
    },
    "tags": []
   },
   "outputs": [
    {
     "data": {
      "image/png": "[encoded data removed]",
      "text/plain": [
       "<Figure size 800x800 with 1 Axes>"
      ]
     },
     "metadata": {},
     "output_type": "display_data"
    }
   ],
   "source": [
    "fig = plt.figure(figsize=(8, 8))\n",
    "ax = fig.add_subplot(111)\n",
    "fig = sm.graphics.qqplot(resid, line=\"r\", ax=ax)"
   ]
  },
  {
   "cell_type": "markdown",
   "id": "e21f12f0",
   "metadata": {
    "papermill": {
     "duration": 0.017165,
     "end_time": "2023-11-21T09:52:27.524853",
     "exception": false,
     "start_time": "2023-11-21T09:52:27.507688",
     "status": "completed"
    },
    "tags": []
   },
   "source": [
    "# Conclusion\n",
    "Discrete choice models statistically relate the choice made by each person to the attributes of the person and the attributes of the alternatives available to the person. For example, the choice of which car a person buys is statistically related to the person's income and age as well as to price, fuel efficiency, size, and other attributes of each available car. The models estimate the probability that a person chooses a particular alternative. The models are often used to forecast how people's choices will change under changes in demographics and/or attributes of the alternatives.\n",
    "\n",
    "Discrete choice models specify the probability that an individual chooses an option among a set of alternatives. The probabilistic description of discrete choice behavior is used not to reflect individual behavior that is viewed as intrinsically probabilistic. Rather, it is the lack of information that leads us to describe choice in a probabilistic fashion. In practice, we cannot know all factors affecting individual choice decisions as their determinants are partially observed or imperfectly measured. Therefore, discrete choice models rely on stochastic assumptions and specifications to account for unobserved factors related to a) choice alternatives, b) taste variation over people (interpersonal heterogeneity) and over time (intra-individual choice dynamics), and c) heterogeneous choice sets. The different formulations have been summarized and classified into groups of models."
   ]
  },
  {
   "cell_type": "markdown",
   "id": "9b89de38",
   "metadata": {
    "papermill": {
     "duration": 0.016507,
     "end_time": "2023-11-21T09:52:27.558470",
     "exception": false,
     "start_time": "2023-11-21T09:52:27.541963",
     "status": "completed"
    },
    "tags": []
   },
   "source": [
    "References\n",
    "\n",
    "* Anderson, S., A. de Palma and J.-F. Thisse Discrete Choice Theory of Product Differentiation, MIT Press,\n",
    "* Revelt, David; Train, Kenneth E. \"Mixed Logit with Repeated Choices: Households' Choices of Appliance Efficiency Level\". Review of Economics and Statistics.\n",
    "* Hensher, D.; Rose, J.; Greene, W. Applied Choice Analysis: A Primer. Cambridge University Press.\n"
   ]
  }
 ],
 "metadata": {
  "kaggle": {
   "accelerator": "none",
   "dataSources": [],
   "dockerImageVersionId": 30513,
   "isGpuEnabled": false,
   "isInternetEnabled": true,
   "language": "python",
   "sourceType": "notebook"
  },
  "kernelspec": {
   "display_name": "Python 3",
   "language": "python",
   "name": "python3"
  },
  "language_info": {
   "codemirror_mode": {
    "name": "ipython",
    "version": 3
   },
   "file_extension": ".py",
   "mimetype": "text/x-python",
   "name": "python",
   "nbconvert_exporter": "python",
   "pygments_lexer": "ipython3",
   "version": "3.10.9"
  },
  "papermill": {
   "default_parameters": {},
   "duration": 20.038625,
   "end_time": "2023-11-21T09:52:28.598536",
   "environment_variables": {},
   "exception": null,
   "input_path": "__notebook__.ipynb",
   "output_path": "__notebook__.ipynb",
   "parameters": {},
   "start_time": "2023-11-21T09:52:08.559911",
   "version": "2.4.0"
  }
 },
 "nbformat": 4,
 "nbformat_minor": 5
}
