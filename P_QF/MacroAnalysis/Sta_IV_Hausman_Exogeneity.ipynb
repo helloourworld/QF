{
 "cells": [
  {
   "cell_type": "code",
   "execution_count": 1,
   "metadata": {},
   "outputs": [],
   "source": [
    "\n",
    "# 1. Packages\n",
    "\n",
    "import statsmodels.api as sm\n",
    "import statsmodels.formula.api as smf\n",
    "import linearmodels.iv.model as lm"
   ]
  },
  {
   "cell_type": "code",
   "execution_count": 2,
   "metadata": {},
   "outputs": [
    {
     "name": "stdout",
     "output_type": "stream",
     "text": [
      "   price  lotsize  bedrooms  bathrooms  stories driveway recreation fullbase  \\\n",
      "0  42000     5850         3          1        2      yes         no      yes   \n",
      "1  38500     4000         2          1        1      yes         no       no   \n",
      "2  49500     3060         3          1        1      yes         no       no   \n",
      "3  60500     6650         3          1        2      yes        yes       no   \n",
      "4  61000     6360         2          1        1      yes         no       no   \n",
      "\n",
      "  gasheat aircon  garage prefer  \n",
      "0      no     no       1     no  \n",
      "1      no     no       0     no  \n",
      "2      no     no       0     no  \n",
      "3      no     no       0     no  \n",
      "4      no     no       0     no  \n"
     ]
    }
   ],
   "source": [
    "# 2. Data\n",
    "houseprices_object = sm.datasets.get_rdataset(dataname=\"HousePrices\", package=\"AER\", cache=True)\n",
    "houseprices = houseprices_object.data\n",
    "print(houseprices.head())\n",
    "\n"
   ]
  },
  {
   "cell_type": "code",
   "execution_count": 3,
   "metadata": {},
   "outputs": [],
   "source": [
    "# print(houseprices_object.__doc__)"
   ]
  },
  {
   "cell_type": "code",
   "execution_count": 4,
   "metadata": {},
   "outputs": [],
   "source": [
    "# 3. Model\n",
    "mlr1 = smf.ols(formula = \"price ~ lotsize + bedrooms\", data=houseprices).fit()"
   ]
  },
  {
   "cell_type": "code",
   "execution_count": 6,
   "metadata": {},
   "outputs": [
    {
     "data": {
      "text/html": [
       "<table class=\"simpletable\">\n",
       "<caption>OLS Regression Results</caption>\n",
       "<tr>\n",
       "  <th>Dep. Variable:</th>          <td>price</td>      <th>  R-squared:         </th> <td>   0.370</td> \n",
       "</tr>\n",
       "<tr>\n",
       "  <th>Model:</th>                   <td>OLS</td>       <th>  Adj. R-squared:    </th> <td>   0.368</td> \n",
       "</tr>\n",
       "<tr>\n",
       "  <th>Method:</th>             <td>Least Squares</td>  <th>  F-statistic:       </th> <td>   159.6</td> \n",
       "</tr>\n",
       "<tr>\n",
       "  <th>Date:</th>             <td>Thu, 24 Oct 2024</td> <th>  Prob (F-statistic):</th> <td>2.95e-55</td> \n",
       "</tr>\n",
       "<tr>\n",
       "  <th>Time:</th>                 <td>14:21:37</td>     <th>  Log-Likelihood:    </th> <td> -6213.1</td> \n",
       "</tr>\n",
       "<tr>\n",
       "  <th>No. Observations:</th>      <td>   546</td>      <th>  AIC:               </th> <td>1.243e+04</td>\n",
       "</tr>\n",
       "<tr>\n",
       "  <th>Df Residuals:</th>          <td>   543</td>      <th>  BIC:               </th> <td>1.245e+04</td>\n",
       "</tr>\n",
       "<tr>\n",
       "  <th>Df Model:</th>              <td>     2</td>      <th>                     </th>     <td> </td>    \n",
       "</tr>\n",
       "<tr>\n",
       "  <th>Covariance Type:</th>      <td>nonrobust</td>    <th>                     </th>     <td> </td>    \n",
       "</tr>\n",
       "</table>\n",
       "<table class=\"simpletable\">\n",
       "<tr>\n",
       "      <td></td>         <th>coef</th>     <th>std err</th>      <th>t</th>      <th>P>|t|</th>  <th>[0.025</th>    <th>0.975]</th>  \n",
       "</tr>\n",
       "<tr>\n",
       "  <th>Intercept</th> <td> 5612.5997</td> <td> 4102.819</td> <td>    1.368</td> <td> 0.172</td> <td>-2446.741</td> <td> 1.37e+04</td>\n",
       "</tr>\n",
       "<tr>\n",
       "  <th>lotsize</th>   <td>    6.0530</td> <td>    0.424</td> <td>   14.265</td> <td> 0.000</td> <td>    5.219</td> <td>    6.887</td>\n",
       "</tr>\n",
       "<tr>\n",
       "  <th>bedrooms</th>  <td> 1.057e+04</td> <td> 1247.676</td> <td>    8.470</td> <td> 0.000</td> <td> 8116.488</td> <td>  1.3e+04</td>\n",
       "</tr>\n",
       "</table>\n",
       "<table class=\"simpletable\">\n",
       "<tr>\n",
       "  <th>Omnibus:</th>       <td>77.789</td> <th>  Durbin-Watson:     </th> <td>   1.193</td>\n",
       "</tr>\n",
       "<tr>\n",
       "  <th>Prob(Omnibus):</th> <td> 0.000</td> <th>  Jarque-Bera (JB):  </th> <td> 146.854</td>\n",
       "</tr>\n",
       "<tr>\n",
       "  <th>Skew:</th>          <td> 0.833</td> <th>  Prob(JB):          </th> <td>1.29e-32</td>\n",
       "</tr>\n",
       "<tr>\n",
       "  <th>Kurtosis:</th>      <td> 4.919</td> <th>  Cond. No.          </th> <td>2.60e+04</td>\n",
       "</tr>\n",
       "</table><br/><br/>Notes:<br/>[1] Standard Errors assume that the covariance matrix of the errors is correctly specified.<br/>[2] The condition number is large, 2.6e+04. This might indicate that there are<br/>strong multicollinearity or other numerical problems."
      ],
      "text/latex": [
       "\\begin{center}\n",
       "\\begin{tabular}{lclc}\n",
       "\\toprule\n",
       "\\textbf{Dep. Variable:}    &      price       & \\textbf{  R-squared:         } &     0.370   \\\\\n",
       "\\textbf{Model:}            &       OLS        & \\textbf{  Adj. R-squared:    } &     0.368   \\\\\n",
       "\\textbf{Method:}           &  Least Squares   & \\textbf{  F-statistic:       } &     159.6   \\\\\n",
       "\\textbf{Date:}             & Thu, 24 Oct 2024 & \\textbf{  Prob (F-statistic):} &  2.95e-55   \\\\\n",
       "\\textbf{Time:}             &     14:21:37     & \\textbf{  Log-Likelihood:    } &   -6213.1   \\\\\n",
       "\\textbf{No. Observations:} &         546      & \\textbf{  AIC:               } & 1.243e+04   \\\\\n",
       "\\textbf{Df Residuals:}     &         543      & \\textbf{  BIC:               } & 1.245e+04   \\\\\n",
       "\\textbf{Df Model:}         &           2      & \\textbf{                     } &             \\\\\n",
       "\\textbf{Covariance Type:}  &    nonrobust     & \\textbf{                     } &             \\\\\n",
       "\\bottomrule\n",
       "\\end{tabular}\n",
       "\\begin{tabular}{lcccccc}\n",
       "                   & \\textbf{coef} & \\textbf{std err} & \\textbf{t} & \\textbf{P$> |$t$|$} & \\textbf{[0.025} & \\textbf{0.975]}  \\\\\n",
       "\\midrule\n",
       "\\textbf{Intercept} &    5612.5997  &     4102.819     &     1.368  &         0.172        &    -2446.741    &     1.37e+04     \\\\\n",
       "\\textbf{lotsize}   &       6.0530  &        0.424     &    14.265  &         0.000        &        5.219    &        6.887     \\\\\n",
       "\\textbf{bedrooms}  &    1.057e+04  &     1247.676     &     8.470  &         0.000        &     8116.488    &      1.3e+04     \\\\\n",
       "\\bottomrule\n",
       "\\end{tabular}\n",
       "\\begin{tabular}{lclc}\n",
       "\\textbf{Omnibus:}       & 77.789 & \\textbf{  Durbin-Watson:     } &    1.193  \\\\\n",
       "\\textbf{Prob(Omnibus):} &  0.000 & \\textbf{  Jarque-Bera (JB):  } &  146.854  \\\\\n",
       "\\textbf{Skew:}          &  0.833 & \\textbf{  Prob(JB):          } & 1.29e-32  \\\\\n",
       "\\textbf{Kurtosis:}      &  4.919 & \\textbf{  Cond. No.          } & 2.60e+04  \\\\\n",
       "\\bottomrule\n",
       "\\end{tabular}\n",
       "%\\caption{OLS Regression Results}\n",
       "\\end{center}\n",
       "\n",
       "Notes: \\newline\n",
       " [1] Standard Errors assume that the covariance matrix of the errors is correctly specified. \\newline\n",
       " [2] The condition number is large, 2.6e+04. This might indicate that there are \\newline\n",
       " strong multicollinearity or other numerical problems."
      ],
      "text/plain": [
       "<class 'statsmodels.iolib.summary.Summary'>\n",
       "\"\"\"\n",
       "                            OLS Regression Results                            \n",
       "==============================================================================\n",
       "Dep. Variable:                  price   R-squared:                       0.370\n",
       "Model:                            OLS   Adj. R-squared:                  0.368\n",
       "Method:                 Least Squares   F-statistic:                     159.6\n",
       "Date:                Thu, 24 Oct 2024   Prob (F-statistic):           2.95e-55\n",
       "Time:                        14:21:37   Log-Likelihood:                -6213.1\n",
       "No. Observations:                 546   AIC:                         1.243e+04\n",
       "Df Residuals:                     543   BIC:                         1.245e+04\n",
       "Df Model:                           2                                         \n",
       "Covariance Type:            nonrobust                                         \n",
       "==============================================================================\n",
       "                 coef    std err          t      P>|t|      [0.025      0.975]\n",
       "------------------------------------------------------------------------------\n",
       "Intercept   5612.5997   4102.819      1.368      0.172   -2446.741    1.37e+04\n",
       "lotsize        6.0530      0.424     14.265      0.000       5.219       6.887\n",
       "bedrooms    1.057e+04   1247.676      8.470      0.000    8116.488     1.3e+04\n",
       "==============================================================================\n",
       "Omnibus:                       77.789   Durbin-Watson:                   1.193\n",
       "Prob(Omnibus):                  0.000   Jarque-Bera (JB):              146.854\n",
       "Skew:                           0.833   Prob(JB):                     1.29e-32\n",
       "Kurtosis:                       4.919   Cond. No.                     2.60e+04\n",
       "==============================================================================\n",
       "\n",
       "Notes:\n",
       "[1] Standard Errors assume that the covariance matrix of the errors is correctly specified.\n",
       "[2] The condition number is large, 2.6e+04. This might indicate that there are\n",
       "strong multicollinearity or other numerical problems.\n",
       "\"\"\""
      ]
     },
     "execution_count": 6,
     "metadata": {},
     "output_type": "execute_result"
    }
   ],
   "source": [
    "mlr1.summary()\n",
    "\n",
    "\"\"\"The condition number is large, 2.6e+04. This might indicate that there are\n",
    "strong multicollinearity or other numerical problems.\n",
    "\"\"\""
   ]
  },
  {
   "cell_type": "code",
   "execution_count": 7,
   "metadata": {},
   "outputs": [],
   "source": [
    "# 4. Exogeneity\n",
    "# TSLS\n",
    "mdatac = sm.add_constant(data=houseprices, prepend=False)\n",
    "mlr2 = lm.IV2SLS(dependent=mdatac[\"price\"], exog=mdatac[['const', 'bedrooms']], endog=mdatac['lotsize'], instruments=mdatac[['driveway', 'garage']]).fit(cov_type='homoskedastic', debiased=True)"
   ]
  },
  {
   "cell_type": "code",
   "execution_count": 8,
   "metadata": {},
   "outputs": [
    {
     "name": "stdout",
     "output_type": "stream",
     "text": [
      "Wu-Hausman test of exogeneity\n",
      "H0: All endogenous variables are exogenous\n",
      "Statistic: 50.9308\n",
      "P-value: 0.0000\n",
      "Distributed: F(1,542)\n",
      "Wooldridge's regression test of exogeneity\n",
      "H0: Endogenous variables are exogenous\n",
      "Statistic: 50.9046\n",
      "P-value: 0.0000\n",
      "Distributed: chi2(1)\n"
     ]
    }
   ],
   "source": [
    "# Wu-Hausman Tests\n",
    "print(mlr2.wu_hausman())\n",
    "print(mlr2.wooldridge_regression)"
   ]
  },
  {
   "cell_type": "code",
   "execution_count": 9,
   "metadata": {},
   "outputs": [
    {
     "name": "stdout",
     "output_type": "stream",
     "text": [
      "Sargan's test of overidentification\n",
      "H0: The model is not overidentified.\n",
      "Statistic: 0.0477\n",
      "P-value: 0.8271\n",
      "Distributed: chi2(1)\n"
     ]
    }
   ],
   "source": [
    "# Sargan Over-identifying Restrictions Test\n",
    "print(mlr2.sargan)"
   ]
  },
  {
   "cell_type": "code",
   "execution_count": null,
   "metadata": {},
   "outputs": [],
   "source": []
  }
 ],
 "metadata": {
  "kernelspec": {
   "display_name": "Python 3",
   "language": "python",
   "name": "python3"
  },
  "language_info": {
   "codemirror_mode": {
    "name": "ipython",
    "version": 3
   },
   "file_extension": ".py",
   "mimetype": "text/x-python",
   "name": "python",
   "nbconvert_exporter": "python",
   "pygments_lexer": "ipython3",
   "version": "3.10.9"
  }
 },
 "nbformat": 4,
 "nbformat_minor": 2
}
