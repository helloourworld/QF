{
 "cells": [
  {
   "cell_type": "code",
   "execution_count": 1,
   "id": "0bfce439",
   "metadata": {
    "execution": {
     "iopub.execute_input": "2023-11-21T09:52:20.684650Z",
     "iopub.status.busy": "2023-11-21T09:52:20.683780Z",
     "iopub.status.idle": "2023-11-21T09:52:23.693332Z",
     "shell.execute_reply": "2023-11-21T09:52:23.691536Z"
    },
    "papermill": {
     "duration": 3.026058,
     "end_time": "2023-11-21T09:52:23.696064",
     "exception": false,
     "start_time": "2023-11-21T09:52:20.670006",
     "status": "completed"
    },
    "tags": []
   },
   "outputs": [],
   "source": [
    "%matplotlib inline\n",
    "import QuantLib as ql\n",
    "import numpy as np\n",
    "import pandas as pd\n",
    "\n",
    "\n",
    "notional = 100_000\n",
    "volatility_strike = 0.2438\n",
    "days_to_maturity = 148\n",
    "observation_period = 252\n",
    "\n",
    "risk_free_rate = 0.0525\n",
    "dividend_yield = 0.0052\n",
    "spot_price = 188.64\n",
    "\n"
   ]
  },
  {
   "cell_type": "code",
   "execution_count": 2,
   "id": "ffdfd272",
   "metadata": {},
   "outputs": [],
   "source": [
    "calendar = ql.NullCalendar()\n",
    "day_count = ql.Actual360()\n",
    "\n",
    "today = ql.Date().todaysDate()\n",
    "ql.Settings.instance().evaluationDate = today\n",
    "\n",
    "risk_free_ts = ql.YieldTermStructureHandle(\n",
    "    ql.FlatForward(today, risk_free_rate, day_count)\n",
    ")\n",
    "\n",
    "dividend_ts = ql.YieldTermStructureHandle(\n",
    "    ql.FlatForward(today, dividend_yield, day_count)\n",
    ")\n",
    "\n",
    "# Underlying asset price\n",
    "spot_handle = ql.QuoteHandle(ql.SimpleQuote(spot_price))"
   ]
  },
  {
   "cell_type": "code",
   "execution_count": 3,
   "id": "8dc2cb45",
   "metadata": {},
   "outputs": [],
   "source": [
    "strike_price = 190\n",
    "option_price = 11.05\n",
    "expiration_date = today + ql.Period(days_to_maturity, ql.Days)\n",
    "\n",
    "payoff = ql.PlainVanillaPayoff(ql.Option.Call, strike_price)\n",
    "exercise = ql.EuropeanExercise(expiration_date)\n",
    "european_option = ql.VanillaOption(payoff, exercise)\n",
    "\n",
    "volatility_handle = ql.BlackVolTermStructureHandle(\n",
    "    ql.BlackConstantVol(today, calendar, volatility_strike, day_count)\n",
    ")\n",
    "\n",
    "bsm_process = ql.BlackScholesMertonProcess(\n",
    "    spot_handle, dividend_ts, risk_free_ts, volatility_handle\n",
    ")\n",
    "\n",
    "implied_volatility = european_option.impliedVolatility(\n",
    "    option_price, bsm_process, 1e-4, 1000, 1e-8, 4.0\n",
    ")"
   ]
  },
  {
   "cell_type": "code",
   "execution_count": 4,
   "id": "e7445459",
   "metadata": {},
   "outputs": [],
   "source": [
    "np.random.seed(42)\n",
    "\n",
    "time_steps = observation_period\n",
    "dt = 1 / observation_period\n",
    "\n",
    "prices = np.zeros((time_steps + 1, 1))\n",
    "prices[0] = spot_price\n",
    "\n",
    "for t in range(1, time_steps + 1):\n",
    "    z = np.random.normal(size=1)\n",
    "    prices[t] = (\n",
    "        prices[t-1] \n",
    "        * np.exp(\n",
    "            (risk_free_rate - 0.5 * implied_volatility**2) * \n",
    "            dt + \n",
    "            implied_volatility * \n",
    "            np.sqrt(dt) * z\n",
    "        )\n",
    "    )\n",
    "\n",
    "prices_df = pd.DataFrame(prices, columns=['Price'])\n",
    "\n",
    "prices_df['Return'] = prices_df['Price'].pct_change().dropna()\n",
    "\n",
    "realized_volatility = np.std(prices_df['Return']) * np.sqrt(observation_period)"
   ]
  },
  {
   "cell_type": "code",
   "execution_count": 5,
   "id": "a86fddcd",
   "metadata": {},
   "outputs": [
    {
     "name": "stdout",
     "output_type": "stream",
     "text": [
      "Volatility Swap Value: $-3398.14\n"
     ]
    }
   ],
   "source": [
    "time_to_maturity = days_to_maturity / observation_period\n",
    "\n",
    "volatility_swap_value = (\n",
    "    (realized_volatility - volatility_strike) * \n",
    "    notional * \n",
    "    np.sqrt(time_to_maturity)\n",
    ")\n",
    "\n",
    "print(f\"Volatility Swap Value: ${volatility_swap_value:.2f}\")"
   ]
  }
 ],
 "metadata": {
  "kaggle": {
   "accelerator": "none",
   "dataSources": [],
   "dockerImageVersionId": 30513,
   "isGpuEnabled": false,
   "isInternetEnabled": true,
   "language": "python",
   "sourceType": "notebook"
  },
  "kernelspec": {
   "display_name": "Python 3",
   "language": "python",
   "name": "python3"
  },
  "language_info": {
   "codemirror_mode": {
    "name": "ipython",
    "version": 3
   },
   "file_extension": ".py",
   "mimetype": "text/x-python",
   "name": "python",
   "nbconvert_exporter": "python",
   "pygments_lexer": "ipython3",
   "version": "3.10.9"
  },
  "papermill": {
   "default_parameters": {},
   "duration": 20.038625,
   "end_time": "2023-11-21T09:52:28.598536",
   "environment_variables": {},
   "exception": null,
   "input_path": "__notebook__.ipynb",
   "output_path": "__notebook__.ipynb",
   "parameters": {},
   "start_time": "2023-11-21T09:52:08.559911",
   "version": "2.4.0"
  }
 },
 "nbformat": 4,
 "nbformat_minor": 5
}
