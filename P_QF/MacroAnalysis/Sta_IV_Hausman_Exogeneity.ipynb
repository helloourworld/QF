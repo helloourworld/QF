{
 "cells": [
  {
   "cell_type": "code",
   "execution_count": 1,
   "metadata": {},
   "outputs": [],
   "source": [
    "\n",
    "# 1. Packages\n",
    "\n",
    "import statsmodels.api as sm\n",
    "import statsmodels.formula.api as smf\n",
    "import linearmodels.iv.model as lm"
   ]
  },
  {
   "cell_type": "code",
   "execution_count": 2,
   "metadata": {},
   "outputs": [
    {
     "name": "stdout",
     "output_type": "stream",
     "text": [
      "   price  lotsize  bedrooms  bathrooms  stories driveway recreation fullbase  \\\n",
      "0  42000     5850         3          1        2      yes         no      yes   \n",
      "1  38500     4000         2          1        1      yes         no       no   \n",
      "2  49500     3060         3          1        1      yes         no       no   \n",
      "3  60500     6650         3          1        2      yes        yes       no   \n",
      "4  61000     6360         2          1        1      yes         no       no   \n",
      "\n",
      "  gasheat aircon  garage prefer  \n",
      "0      no     no       1     no  \n",
      "1      no     no       0     no  \n",
      "2      no     no       0     no  \n",
      "3      no     no       0     no  \n",
      "4      no     no       0     no  \n"
     ]
    }
   ],
   "source": [
    "# 2. Data\n",
    "houseprices_object = sm.datasets.get_rdataset(dataname=\"HousePrices\", package=\"AER\", cache=True)\n",
    "houseprices = houseprices_object.data\n",
    "print(houseprices.head())\n",
    "\n"
   ]
  },
  {
   "cell_type": "code",
   "execution_count": 4,
   "metadata": {},
   "outputs": [],
   "source": [
    "# print(houseprices_object.__doc__)"
   ]
  },
  {
   "cell_type": "code",
   "execution_count": 5,
   "metadata": {},
   "outputs": [],
   "source": [
    "# 3. Model\n",
    "mlr1 = smf.ols(formula = \"price ~ lotsize + bedrooms\", data=houseprices).fit()"
   ]
  },
  {
   "cell_type": "code",
   "execution_count": 9,
   "metadata": {},
   "outputs": [],
   "source": [
    "# 4. Exogeneity\n",
    "# TSLS\n",
    "mdatac = sm.add_constant(data=houseprices, prepend=False)\n",
    "mlr2 = lm.IV2SLS(dependent=mdatac[\"price\"], exog=mdatac[['const', 'bedrooms']], endog=mdatac['lotsize'], instruments=mdatac[['driveway', 'garage']]).fit(cov_type='homoskedastic', debiased=True)"
   ]
  },
  {
   "cell_type": "code",
   "execution_count": 10,
   "metadata": {},
   "outputs": [
    {
     "name": "stdout",
     "output_type": "stream",
     "text": [
      "Wu-Hausman test of exogeneity\n",
      "H0: All endogenous variables are exogenous\n",
      "Statistic: 50.9308\n",
      "P-value: 0.0000\n",
      "Distributed: F(1,542)\n",
      "Wooldridge's regression test of exogeneity\n",
      "H0: Endogenous variables are exogenous\n",
      "Statistic: 50.9046\n",
      "P-value: 0.0000\n",
      "Distributed: chi2(1)\n"
     ]
    }
   ],
   "source": [
    "# Wu-Hausman Tests\n",
    "print(mlr2.wu_hausman())\n",
    "print(mlr2.wooldridge_regression)"
   ]
  },
  {
   "cell_type": "code",
   "execution_count": 12,
   "metadata": {},
   "outputs": [
    {
     "name": "stdout",
     "output_type": "stream",
     "text": [
      "Sargan's test of overidentification\n",
      "H0: The model is not overidentified.\n",
      "Statistic: 0.0477\n",
      "P-value: 0.8271\n",
      "Distributed: chi2(1)\n"
     ]
    }
   ],
   "source": [
    "# Sargan Over-identifying Restrictions Test\n",
    "print(mlr2.sargan)"
   ]
  },
  {
   "cell_type": "code",
   "execution_count": null,
   "metadata": {},
   "outputs": [],
   "source": []
  }
 ],
 "metadata": {
  "kernelspec": {
   "display_name": "Python 3",
   "language": "python",
   "name": "python3"
  },
  "language_info": {
   "codemirror_mode": {
    "name": "ipython",
    "version": 3
   },
   "file_extension": ".py",
   "mimetype": "text/x-python",
   "name": "python",
   "nbconvert_exporter": "python",
   "pygments_lexer": "ipython3",
   "version": "3.10.9"
  }
 },
 "nbformat": 4,
 "nbformat_minor": 2
}
