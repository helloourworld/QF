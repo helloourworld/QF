{
 "cells": [
  {
   "cell_type": "markdown",
   "id": "325b270d-4ab4-459a-9528-1aa5889dbfe2",
   "metadata": {
    "tags": []
   },
   "source": [
    "# Storage toolbox\n",
    "\n",
    "There are storage soft limits present in the CodeBook.\n",
    "\n",
    "Each time a user starts the CodeBook it takes some time to synchronise the user files with the CodeBook server.\n",
    "If the user has too many files then the CodeBook can hit start-up time limit and will fail to start.\n",
    "In such a case the user will need to contact support to compress the stored files.\n",
    "\n",
    "To prevent start-up failure we notify users when they are close to the limit.\n",
    "\n",
    "_Note:_ Use `__TEMP__` folder to store bulk files during your session to not exceed storage soft limits."
   ]
  },
  {
   "cell_type": "markdown",
   "metadata": {
    "collapsed": false,
    "pycharm": {
     "name": "#%% md\n"
    }
   },
   "source": [
    "## This notebook contains:\n",
    "1. Helper scripts to check if the storage limits are reached.\n",
    "2. Helper scripts to manipulate user files (compress and delete)."
   ]
  },
  {
   "cell_type": "markdown",
   "id": "9ab7d345-01cf-49bd-a99f-184378652f37",
   "metadata": {
    "tags": []
   },
   "source": [
    "## 1.1. Check if the limits are reached\n",
    "The current soft limits are:\n",
    "- Total size of user's files: 2GB\n",
    "- Number of user's files: 2000"
   ]
  },
  {
   "cell_type": "code",
   "execution_count": null,
   "id": "569d0269-d402-400b-b3bb-86569865f3ab",
   "metadata": {},
   "outputs": [],
   "source": [
    "from importlib import import_module as im\n",
    "\n",
    "STORAGE_LIMIT_SIZE_GB = 2  # Total size - soft limit\n",
    "STORAGE_LIMIT_COUNT = 2000  # Number of files - soft limit\n",
    "\n",
    "popen = im(\"os\").popen\n",
    "total_size = popen(\"du -sh ~ | awk '{{print $1}}'\").read().strip()\n",
    "if total_size.endswith(\"G\"):\n",
    "    if float(total_size.rstrip(\"G\")) > STORAGE_LIMIT_SIZE_GB:\n",
    "        print(f\"The SIZE soft LIMIT ({STORAGE_LIMIT_SIZE_GB}G) IS REACHED!\")\n",
    "print(f\"Total size of the files in the home folder: {total_size}\\n\")\n",
    "\n",
    "total_count = int(popen(\"find ~ -type f -not -path '*/.*' | wc -l\").read().strip())\n",
    "if total_count > STORAGE_LIMIT_COUNT:\n",
    "    print(f\"The NUMBER OF FILES soft LIMIT ({STORAGE_LIMIT_COUNT}) IS REACHED!\")\n",
    "print(f\"Total number of the files in the home folder: {total_count}\")"
   ]
  },
  {
   "cell_type": "markdown",
   "id": "38574a06-d383-4443-a949-5364e6e81dc5",
   "metadata": {
    "tags": []
   },
   "source": [
    "## 1.2. Show size per folder"
   ]
  },
  {
   "cell_type": "code",
   "execution_count": null,
   "id": "19931a15-1e72-4838-aa72-2d0f4013e443",
   "metadata": {},
   "outputs": [],
   "source": [
    "from importlib import import_module as im\n",
    "\n",
    "popen = im(\"os\").popen\n",
    "folders = popen(\"find ~ -type d -not -path '*/.*' -exec du -ch --exclude '*/.*' {} +\").read()\n",
    "print(folders.replace(\"/home/jovyan\", \"~\"))"
   ]
  },
  {
   "cell_type": "markdown",
   "id": "7cf7470a-dab1-4976-9bbe-411dffd684ff",
   "metadata": {
    "tags": []
   },
   "source": [
    "## 1.3. Show number of files per folder"
   ]
  },
  {
   "cell_type": "code",
   "execution_count": null,
   "id": "17e750fc-bbdc-46d7-a676-ce9c77159bc9",
   "metadata": {},
   "outputs": [],
   "source": [
    "from importlib import import_module as im\n",
    "\n",
    "popen = im(\"os\").popen\n",
    "folders = popen('/usr/bin/bash -c \\'find ~ -type d -not -path \"*/.*\" -print0 | while read -d \"\" -r dir; do files=(\"$dir\"/*); printf \"%5d files in folder %s\\n\" \"${#files[@]}\" \"$dir\"; done\\'').read()\n",
    "print(folders.replace(\"/home/jovyan\", \"~\"))"
   ]
  },
  {
   "cell_type": "markdown",
   "id": "868f9433-375a-4c20-aa98-c84b38070e1f",
   "metadata": {},
   "source": [
    "## 2.1. Compress a given folder\n",
    "If you have a folder with many files, you may use this snippet to compress it into an archive to download from the CodeBook environment easily."
   ]
  },
  {
   "cell_type": "code",
   "execution_count": null,
   "id": "a1a38c5e-5c1d-4bc9-86b7-1c703a8e0f97",
   "metadata": {},
   "outputs": [],
   "source": [
    "# This cell takes two parameters: FOLDER_TO_COMPRESS and ARCHIVE_NAME\n",
    "#  and creates an archive ARCHIVE_NAME.zip in the home folder.\n",
    "\n",
    "# After the archive is created, you can download it to the local machine, \n",
    "#  then delete the compressed folder and the archive from the CodeBook environment.\n",
    "\n",
    "# The path is relative to the user home folder and should start with ~/\n",
    "# Example: \"~/folder/to/compress\"\n",
    "FOLDER_TO_COMPRESS = \"~/folder/to/compress\"\n",
    "\n",
    "# Extension .zip will be added to the filename.\n",
    "ARCHIVE_NAME = \"archive_name\"\n",
    "\n",
    "\n",
    "from importlib import import_module as im\n",
    "from pathlib import Path\n",
    "\n",
    "print(\"Compressing...\")\n",
    "ma = im(\"shutil\").make_archive\n",
    "folder_path = Path(\n",
    "    FOLDER_TO_COMPRESS if FOLDER_TO_COMPRESS.startswith(\"~/\") else \"~/\" + FOLDER_TO_COMPRESS\n",
    ").expanduser()\n",
    "archive_path = Path(\"~/\"+ARCHIVE_NAME).expanduser()\n",
    "archive = ma(archive_path, \"zip\", folder_path).replace(\"/home/jovyan\", \"~\")\n",
    "print(f\"The archive is created: {archive}\")"
   ]
  },
  {
   "cell_type": "markdown",
   "id": "777a657e-accc-4bf5-b745-32349cc34469",
   "metadata": {},
   "source": [
    "## 2.2. Delete a given folder\n",
    "Use this snippet to delete non-empty folders.\n",
    "### Important: Deleted folder couldn't be restored!"
   ]
  },
  {
   "cell_type": "code",
   "execution_count": null,
   "id": "74f7f85c-f171-4cee-b59c-a55188300d31",
   "metadata": {},
   "outputs": [],
   "source": [
    "# This cell takes one parameter: FOLDER_TO_DELETE\n",
    "\n",
    "# The path is relative to the user home folder and should start with ~/\n",
    "# Example: \"~/folder/to/delete\"\n",
    "FOLDER_TO_DELETE = \"~/folder/to/delete\"\n",
    "\n",
    "\n",
    "from importlib import import_module as im\n",
    "\n",
    "popen = im(\"os\").popen\n",
    "folder_path = FOLDER_TO_DELETE if FOLDER_TO_DELETE.startswith(\"~/\") else \"~/\" + FOLDER_TO_DELETE\n",
    "confirmation = input(f'You are going to PERMANENTLY delete folder: {folder_path}.\\nType \"yes\" to proceed: ')\n",
    "if confirmation.lower() == \"yes\":\n",
    "    print(\"Deleting...\")\n",
    "    failure = popen(f\"rm -rfv {folder_path}\").read()\n",
    "    print(\"Done.\")\n",
    "else:\n",
    "    print(\"Deletion canceled.\")"
   ]
  }
 ],
 "metadata": {
  "kernelspec": {
   "display_name": "Python 3",
   "language": "python",
   "name": "python3"
  },
  "language_info": {
   "codemirror_mode": {
    "name": "ipython",
    "version": 3
   },
   "file_extension": ".py",
   "mimetype": "text/x-python",
   "name": "python",
   "nbconvert_exporter": "python",
   "pygments_lexer": "ipython3",
   "version": "3.8.15"
  },
  "widgets": {
   "application/vnd.jupyter.widget-state+json": {
    "state": {},
    "version_major": 2,
    "version_minor": 0
   }
  }
 },
 "nbformat": 4,
 "nbformat_minor": 5
}
